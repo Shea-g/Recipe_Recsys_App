{
 "cells": [
  {
   "cell_type": "code",
   "execution_count": 97,
   "id": "1ad3cb65",
   "metadata": {},
   "outputs": [],
   "source": [
    "#standard libs\n",
    "import numpy as np\n",
    "import pandas  as pd\n",
    "import numpy as np\n",
    "import matplotlib.pyplot as plt\n",
    "import seaborn as sns\n",
    "import pickle\n",
    "import random\n",
    "\n",
    "#Sklearn\n",
    "from sklearn.preprocessing import FunctionTransformer\n",
    "from sklearn.decomposition import NMF\n",
    "from sklearn import decomposition, datasets, model_selection, preprocessing, metrics"
   ]
  },
  {
   "cell_type": "markdown",
   "id": "5c3023b0",
   "metadata": {},
   "source": [
    "Get random recipes for cold user"
   ]
  },
  {
   "cell_type": "code",
   "execution_count": 96,
   "id": "ea5d0eb6",
   "metadata": {},
   "outputs": [
    {
     "data": {
      "text/plain": [
       "['Pork Chops with Crust of Onions',\n",
       " 'Firehouse Chili',\n",
       " 'Hobo Casserole',\n",
       " 'Strawberry Heaven',\n",
       " 'Thick Chocolate Pudding']"
      ]
     },
     "execution_count": 96,
     "metadata": {},
     "output_type": "execute_result"
    }
   ],
   "source": [
    "rand_df = pd.read_csv('INFO_FINAL.csv')\n",
    "a = list(rand_df['recipe'].sample(n=5))\n",
    "a #list of recipes to randomly rate"
   ]
  },
  {
   "cell_type": "markdown",
   "id": "3031b6f1",
   "metadata": {},
   "source": [
    "Load pickles!"
   ]
  },
  {
   "cell_type": "code",
   "execution_count": 98,
   "id": "1298ce70",
   "metadata": {},
   "outputs": [],
   "source": [
    "#model\n",
    "\n",
    "with open(r\"nmf_130.pickle\", \"rb\") as input_file:\n",
    "    m = pickle.load(input_file)\n",
    "Q = m.components_"
   ]
  },
  {
   "cell_type": "code",
   "execution_count": 99,
   "id": "a2a42d74",
   "metadata": {},
   "outputs": [],
   "source": [
    "#dictionary (for index and output)\n",
    "\n",
    "with open(r\"recipes_dict.pickle\", \"rb\") as input_file:\n",
    "    recipes_dict= pickle.load(input_file)\n",
    "#recipes_dict"
   ]
  },
  {
   "cell_type": "code",
   "execution_count": 100,
   "id": "f70e2fd1",
   "metadata": {},
   "outputs": [],
   "source": [
    "#R_vector for imp method\n",
    "\n",
    "with open(r\"R_vec.pickle\", \"rb\") as input_file:\n",
    "    R_vec= pickle.load(input_file)\n",
    "#R_vec"
   ]
  },
  {
   "cell_type": "markdown",
   "id": "9e5574d6",
   "metadata": {},
   "source": [
    "Initialise cold user"
   ]
  },
  {
   "cell_type": "code",
   "execution_count": 7,
   "id": "ed955755",
   "metadata": {},
   "outputs": [],
   "source": [
    "recipes = a \n",
    "\n",
    "ratings = [5, 1 ,1 ,1, 1]"
   ]
  },
  {
   "cell_type": "code",
   "execution_count": 8,
   "id": "b7541c93",
   "metadata": {},
   "outputs": [
    {
     "data": {
      "text/plain": [
       "['Thick and Creamy New England Clam Chowder',\n",
       " 'Wholesome Homemade Honey Whole Wheat Bread',\n",
       " 'Smothered Pork Chops',\n",
       " 'Creamy Coleslaw',\n",
       " 'New York Crumb Cake']"
      ]
     },
     "execution_count": 8,
     "metadata": {},
     "output_type": "execute_result"
    }
   ],
   "source": [
    "a"
   ]
  },
  {
   "cell_type": "markdown",
   "id": "2d55e018",
   "metadata": {},
   "source": [
    "Process cold start user with python (as done in app page, not in function -> output of this fed to func)"
   ]
  },
  {
   "cell_type": "code",
   "execution_count": 9,
   "id": "83840760",
   "metadata": {},
   "outputs": [
    {
     "data": {
      "text/plain": [
       "{'Thick and Creamy New England Clam Chowder': 5,\n",
       " 'Wholesome Homemade Honey Whole Wheat Bread': 1,\n",
       " 'Smothered Pork Chops': 1,\n",
       " 'Creamy Coleslaw': 1,\n",
       " 'New York Crumb Cake': 1}"
      ]
     },
     "execution_count": 9,
     "metadata": {},
     "output_type": "execute_result"
    }
   ],
   "source": [
    "ratings = map(int, ratings) #needs to be int\n",
    "user_rating = dict(zip(recipes,ratings)) \n",
    "user_rating"
   ]
  },
  {
   "cell_type": "code",
   "execution_count": 10,
   "id": "fde98c66",
   "metadata": {},
   "outputs": [
    {
     "data": {
      "text/html": [
       "<div>\n",
       "<style scoped>\n",
       "    .dataframe tbody tr th:only-of-type {\n",
       "        vertical-align: middle;\n",
       "    }\n",
       "\n",
       "    .dataframe tbody tr th {\n",
       "        vertical-align: top;\n",
       "    }\n",
       "\n",
       "    .dataframe thead th {\n",
       "        text-align: right;\n",
       "    }\n",
       "</style>\n",
       "<table border=\"1\" class=\"dataframe\">\n",
       "  <thead>\n",
       "    <tr style=\"text-align: right;\">\n",
       "      <th></th>\n",
       "      <th>Thick and Creamy New England Clam Chowder</th>\n",
       "      <th>Wholesome Homemade Honey Whole Wheat Bread</th>\n",
       "      <th>Smothered Pork Chops</th>\n",
       "      <th>Creamy Coleslaw</th>\n",
       "      <th>New York Crumb Cake</th>\n",
       "    </tr>\n",
       "  </thead>\n",
       "  <tbody>\n",
       "    <tr>\n",
       "      <th>new_user</th>\n",
       "      <td>5</td>\n",
       "      <td>1</td>\n",
       "      <td>1</td>\n",
       "      <td>1</td>\n",
       "      <td>1</td>\n",
       "    </tr>\n",
       "  </tbody>\n",
       "</table>\n",
       "</div>"
      ],
      "text/plain": [
       "          Thick and Creamy New England Clam Chowder  \\\n",
       "new_user                                          5   \n",
       "\n",
       "          Wholesome Homemade Honey Whole Wheat Bread  Smothered Pork Chops  \\\n",
       "new_user                                           1                     1   \n",
       "\n",
       "          Creamy Coleslaw  New York Crumb Cake  \n",
       "new_user                1                    1  "
      ]
     },
     "execution_count": 10,
     "metadata": {},
     "output_type": "execute_result"
    }
   ],
   "source": [
    "visitor ='new_user'\n",
    "user_input = pd.DataFrame(user_rating, index=[visitor])\n",
    "user_input"
   ]
  },
  {
   "cell_type": "markdown",
   "id": "f8571a95",
   "metadata": {},
   "source": [
    "Step by step testing of NMF function for in recommender page"
   ]
  },
  {
   "cell_type": "code",
   "execution_count": 11,
   "id": "5f18008e",
   "metadata": {},
   "outputs": [],
   "source": [
    "recipe =pd.DataFrame(columns= recipes_dict.keys())\n",
    "#recipe"
   ]
  },
  {
   "cell_type": "code",
   "execution_count": 12,
   "id": "f488359e",
   "metadata": {},
   "outputs": [],
   "source": [
    "#process recipe so dont get repeat cols with concat\n",
    "\n",
    "recipe_cols = list(recipe.columns)\n",
    "user_input_cols = list(user_input.columns)\n",
    "user_"
   ]
  },
  {
   "cell_type": "code",
   "execution_count": 13,
   "id": "5f5f52fb",
   "metadata": {},
   "outputs": [],
   "source": [
    "for col in recipe_cols:\n",
    "        if col in  user_input_cols:\n",
    "            recipe.drop([col], axis=1, inplace=True)\n",
    "        else: \n",
    "            pass"
   ]
  },
  {
   "cell_type": "code",
   "execution_count": 14,
   "id": "c9971973",
   "metadata": {},
   "outputs": [],
   "source": [
    "new_user = pd.concat([recipe, user_input])\n",
    "#new_user"
   ]
  },
  {
   "cell_type": "code",
   "execution_count": 15,
   "id": "8922afda",
   "metadata": {},
   "outputs": [
    {
     "data": {
      "text/plain": [
       "5.0"
      ]
     },
     "execution_count": 15,
     "metadata": {},
     "output_type": "execute_result"
    }
   ],
   "source": [
    "#imputing user mean -> output is array to combine with R_vec\n",
    "\n",
    "user1= new_user.T.fillna(new_user.mean(axis=1).round(2)).T.values\n",
    "user1.max()"
   ]
  },
  {
   "cell_type": "code",
   "execution_count": 16,
   "id": "daf5db72",
   "metadata": {},
   "outputs": [
    {
     "data": {
      "text/plain": [
       "5.0"
      ]
     },
     "execution_count": 16,
     "metadata": {},
     "output_type": "execute_result"
    }
   ],
   "source": [
    "user_i = (user1 + R_vec)/2\n",
    "user_i.max() #user_i max 5.0 !!!<3"
   ]
  },
  {
   "cell_type": "code",
   "execution_count": 17,
   "id": "c0773ed3",
   "metadata": {},
   "outputs": [
    {
     "data": {
      "text/plain": [
       "5.0"
      ]
     },
     "execution_count": 17,
     "metadata": {},
     "output_type": "execute_result"
    }
   ],
   "source": [
    "R_vec.max()"
   ]
  },
  {
   "cell_type": "code",
   "execution_count": 18,
   "id": "9acce4b4",
   "metadata": {},
   "outputs": [],
   "source": [
    "user_P = m.transform(user_i)\n",
    "user_R = np.dot( user_P, Q) #repickle model... "
   ]
  },
  {
   "cell_type": "markdown",
   "id": "c3cbf7b2",
   "metadata": {},
   "source": [
    "Get the recommendations"
   ]
  },
  {
   "cell_type": "code",
   "execution_count": 19,
   "id": "b7a41936",
   "metadata": {},
   "outputs": [
    {
     "data": {
      "text/html": [
       "<div>\n",
       "<style scoped>\n",
       "    .dataframe tbody tr th:only-of-type {\n",
       "        vertical-align: middle;\n",
       "    }\n",
       "\n",
       "    .dataframe tbody tr th {\n",
       "        vertical-align: top;\n",
       "    }\n",
       "\n",
       "    .dataframe thead th {\n",
       "        text-align: right;\n",
       "    }\n",
       "</style>\n",
       "<table border=\"1\" class=\"dataframe\">\n",
       "  <thead>\n",
       "    <tr style=\"text-align: right;\">\n",
       "      <th></th>\n",
       "      <th>user_imputed</th>\n",
       "      <th>predicted_ratings</th>\n",
       "    </tr>\n",
       "  </thead>\n",
       "  <tbody>\n",
       "    <tr>\n",
       "      <th>1 Pan Fudge Cake</th>\n",
       "      <td>3.259375</td>\n",
       "      <td>3.259773</td>\n",
       "    </tr>\n",
       "    <tr>\n",
       "      <th>15 Bean Soup</th>\n",
       "      <td>3.400000</td>\n",
       "      <td>3.398051</td>\n",
       "    </tr>\n",
       "    <tr>\n",
       "      <th>15 Minute Garlic Lemon Chicken</th>\n",
       "      <td>3.200000</td>\n",
       "      <td>3.201630</td>\n",
       "    </tr>\n",
       "    <tr>\n",
       "      <th>15 Minute Shrimp Scampi</th>\n",
       "      <td>3.300000</td>\n",
       "      <td>3.301894</td>\n",
       "    </tr>\n",
       "    <tr>\n",
       "      <th>2 Ingredient Pumpkin Muffins</th>\n",
       "      <td>3.328571</td>\n",
       "      <td>3.331025</td>\n",
       "    </tr>\n",
       "    <tr>\n",
       "      <th>...</th>\n",
       "      <td>...</td>\n",
       "      <td>...</td>\n",
       "    </tr>\n",
       "    <tr>\n",
       "      <th>our favorite italian beef</th>\n",
       "      <td>5.000000</td>\n",
       "      <td>3.398086</td>\n",
       "    </tr>\n",
       "    <tr>\n",
       "      <th>roasted zucchini with thyme</th>\n",
       "      <td>2.750000</td>\n",
       "      <td>3.155045</td>\n",
       "    </tr>\n",
       "    <tr>\n",
       "      <th>strawberry filling</th>\n",
       "      <td>3.000000</td>\n",
       "      <td>3.397621</td>\n",
       "    </tr>\n",
       "    <tr>\n",
       "      <th>tastes like a slice of pizza dip</th>\n",
       "      <td>2.937500</td>\n",
       "      <td>3.336657</td>\n",
       "    </tr>\n",
       "    <tr>\n",
       "      <th>veal marsala</th>\n",
       "      <td>3.000000</td>\n",
       "      <td>3.398218</td>\n",
       "    </tr>\n",
       "  </tbody>\n",
       "</table>\n",
       "<p>5043 rows × 2 columns</p>\n",
       "</div>"
      ],
      "text/plain": [
       "                                  user_imputed  predicted_ratings\n",
       "1 Pan Fudge Cake                      3.259375           3.259773\n",
       "15 Bean Soup                          3.400000           3.398051\n",
       "15 Minute Garlic Lemon Chicken        3.200000           3.201630\n",
       "15 Minute Shrimp Scampi               3.300000           3.301894\n",
       "2 Ingredient Pumpkin Muffins          3.328571           3.331025\n",
       "...                                        ...                ...\n",
       "our favorite italian beef             5.000000           3.398086\n",
       "roasted zucchini with thyme           2.750000           3.155045\n",
       "strawberry filling                    3.000000           3.397621\n",
       "tastes like a slice of pizza dip      2.937500           3.336657\n",
       "veal marsala                          3.000000           3.398218\n",
       "\n",
       "[5043 rows x 2 columns]"
      ]
     },
     "execution_count": 19,
     "metadata": {},
     "output_type": "execute_result"
    }
   ],
   "source": [
    "reco = pd.DataFrame({'user_imputed':user_i[0], 'predicted_ratings':user_R[0]}, index = recipes_dict.keys())\n",
    "reco #can see some basically the same, some quite different (from imputed..)"
   ]
  },
  {
   "cell_type": "code",
   "execution_count": 20,
   "id": "8554b259",
   "metadata": {},
   "outputs": [
    {
     "data": {
      "text/plain": [
       "['Whipped Chocolate Cream Icing',\n",
       " 'Lemon Cake Pie',\n",
       " 'Fluffy Morning Pancakes',\n",
       " 'Creamy Chickpea Curry',\n",
       " 'Tender Crock Pot Turkey Breast',\n",
       " 'My Crock Pot Spaghetti Sauce',\n",
       " 'Peanut Butter and Pickle Sandwich',\n",
       " 'Bacon and Lettuce Stuffed Cherry Tomatoes',\n",
       " 'Crock Pot Candy',\n",
       " 'Cajun Chicken Alfredo']"
      ]
     },
     "execution_count": 20,
     "metadata": {},
     "output_type": "execute_result"
    }
   ],
   "source": [
    "reco_10 = reco.sort_values(by ='predicted_ratings', ascending= False).iloc[:10,:]\n",
    "recommendation =list(reco_10.index)\n",
    "recommendation\n",
    "#reco_10\n",
    "\n",
    "#interestingly top ratings not super close to five..bc input was 2 and 1 perhaps?"
   ]
  },
  {
   "cell_type": "code",
   "execution_count": 24,
   "id": "2fb413d6",
   "metadata": {},
   "outputs": [],
   "source": [
    "#for loop to print out the key values! (below is the one which goes into func and returns output!)\n",
    "\n",
    "#for k in recommendation:\n",
    "    #if k in recipes_dict.keys():\n",
    "        #print (recipes_dict[k])"
   ]
  },
  {
   "cell_type": "code",
   "execution_count": 22,
   "id": "5d1ae804",
   "metadata": {},
   "outputs": [],
   "source": [
    "recoreco = []\n",
    "\n",
    "for k in recommendation:\n",
    "    if k in recipes_dict.keys():\n",
    "        recoreco.append(recipes_dict[k])"
   ]
  },
  {
   "cell_type": "code",
   "execution_count": 23,
   "id": "19651c7c",
   "metadata": {},
   "outputs": [
    {
     "data": {
      "text/plain": [
       "['Whipped Chocolate Cream Icing~cing sugar\"~\"Sift icing sugar and cocoa into a bowl.\", \"Add whipping cream and stir to mix.\", \"With beater whip as for whipping cream.\", \"This amount will very generously cover a large Angel cake or any other large cake.\")',\n",
       " 'Lemon Cake Pie~\"sugar\", \"butter\", \"all-purpose flour\", \"salt\", \"lemon peel\", \"fresh lemon juice\", \"eggs\", \"milk\")~\"Put rack on lowest position in oven.\", \"Preheat oven to 375.\", \"In a medium bowl, stir together melted butter and sugar.\", \"Stir in flour, salt, lemon peel and lemon juice.\", \"In a small bowl, beat egg yolks with milk until well blended, stir into lemon mixture.\", \"In another medium sized bowl, beat egg whites with an electric mixer until they hold distinct but moist peaks. Gently fold egg whites into lemon mixture. (Don\\'t mix it too much.).\", \"Pour filling into pie crust.\", \"I always end up with more filling than will fit in the pie crust so I put it in a couple ceramic rammekins and cook it along with the pie.\", \\n\"Bake on the lowest rack of the oven until the top is browned and the center jiggles only slightly when pan is gently shaken (45-55 minutes). If the crust begins to brown excessively, drape it with foil.\", \"Let cool before serving. But it\\'s good warm too!\")',\n",
       " 'Fluffy Morning Pancakes~\"all-purpose flour\", \"baking powder\", \"sugar\", \"salt\", \"milk\", \"butter\", \"margarine\", \"eggs\")~\"Combine all dry ingredients.\", \"Preheat electric skillet to 380º.\", \"Add butter and milk to eggs.\", \"Add dry ingredients.\", \"Stir just to dampen (not too much).\", \"Adjust milk so it’s thin enough to pour.\", \"Carefully butter skillet and pour pancakes to your desired size.  When you begin to see bubbles forming on top of your batter, it is time to flip.  Cook on second side until nicely browned.\")',\n",
       " 'Creamy Chickpea Curry~\"onion\", \"garlic cloves\", \"red curry paste\", \"chickpeas\", \"coconut milk\", \"soy sauce\", \"tomatoes\", \"brown sugar\", \"fresh lime juice\", \"fresh basil\", \"cilantro\", \"cooked jasmine rice\")~\"Heat oil in a large skillet over a medium high heat.\", \"Add onions and cook until they start to brown.\", \"Add garlic and curry.\", \"Stir-fry until garlic is soft and curry dissolved.\", \"Add chickpeas, Coconut Milk, and soy sauce.\", \"Bring to a boil and simmer 10 minutes.\", \"Add tomatoes, sugar, and lime juice.\", \"Simmer for 5 minutes.\", \"Stir in basil or cilantro until combined, and serve over rice.\")',\n",
       " 'Tender Crock Pot Turkey Breast~\"chicken broth\", \"butter\", \"Worcestershire sauce\", \"thyme\")~\"Rinse turkey breast and pat dry with paper towels.\", \"Place in crock pot breast side down.\", \"Pour chicken broth over turkey.\", \"Two hours into cooking time, mix other ingredients and pour over turkey.\", \"Make gravy with juices if desired.\", \"Cook 8-10 hours in crock pot on low.\")',\n",
       " 'My Crock Pot Spaghetti Sauce~\"ground beef\", \"ground pork\", \"onion\", \"diced tomatoes\", \"tomato paste\", \"tomato sauce\", \"bay leaves\", \"garlic cloves\", \"dried oregano\", \"salt\", \"dried basil\", \"brown sugar\", \"dried thyme\")~\"Brown meats and onion in a skillet and drain well.\", \"Transfer to your crock pot.\", \"Add remaining ingredients and mix well.\", \"Cover and cook on low for 8-10 hours.\", \"Serve over hot spaghetti noodles.\")',\n",
       " 'Peanut Butter and Pickle Sandwich~eanut butter\"~\"Spread peanut butter on both slices of bread.\", \"Lay pickles on one slice of bread.\", \"Cover with other slice of bread.\", \"Enjoy!\")',\n",
       " 'Bacon and Lettuce Stuffed Cherry Tomatoes~\"cherry tomatoes\", \"fresh chives\", \"green onion\", \"bacon\", \"lettuce\", \"mayonnaise\")~\"Cut the top off the tomatoes, scoop out the seeds& pulp. Use the seeds & puld in some other recipe.\", \"Salt the inside of the tomato and put them upside down on a paper towel to drain for about15 minutes.\", \"Meanwhile combine the bacon, chives, lettuce and Mayo, season with salt and pepper (remember that you have already salted the inside of the tomatoes).\", \"Fill the tomatoes just before serving.\")',\n",
       " 'Crock Pot Candy~\"unsalted dry roasted peanuts\", \"German chocolate bars\")~\"Put peanuts in bottom of crock pot; add other ingredients.\", \"Cook on low setting for 1 1/2 to 2 hours.\", \"Place rounded spoonfuls onto wax paper and allow to cool.\")',\n",
       " 'Cajun Chicken Alfredo~\"boneless skinless chicken breast halves\", \"butter\", \"margarine\", \"green onion\", \"heavy cream\", \"dried basil\", \"lemon-pepper seasoning\", \"salt\", \"garlic powder\", \"pepper\", \"linguine\", \"parmesan cheese\")~\"Place chicken and Cajun seasoning in a bowl or resealable plastic bag, toss or shake to coat.\", \"In a large skillet over medium heat sauté chicken in butter until almost tender, about 5-7 minutes.\", \"Add onion; cook and stir for 2-3 minutes.\", \"Reduce heat.\", \"Add cream and seasonings -- 1/4  teaspoon dried basil\", \"1/4  teaspoon lemon-pepper seasoning\", \"1/4  teaspoon salt\", \"1/8  teaspoon garlic powder\", \"1/8  teaspoon pepper ; heat through.\", \"Add linguine and toss; heat through.\")']"
      ]
     },
     "execution_count": 23,
     "metadata": {},
     "output_type": "execute_result"
    }
   ],
   "source": [
    "recoreco"
   ]
  },
  {
   "cell_type": "markdown",
   "id": "96408330",
   "metadata": {},
   "source": [
    "Test random function for app!"
   ]
  },
  {
   "cell_type": "code",
   "execution_count": 25,
   "id": "5782dc42",
   "metadata": {},
   "outputs": [],
   "source": [
    "#rand_rec= random.choice(list(recipes_dict.values()), size=k)\n",
    "\n",
    "rand_rec = random.sample(list(recipes_dict.values()), 5)"
   ]
  },
  {
   "cell_type": "code",
   "execution_count": 26,
   "id": "92d00bfe",
   "metadata": {},
   "outputs": [
    {
     "data": {
      "text/plain": [
       "['Chinese Chicken Lo Mein~\"boneless skinless chicken breasts\", \"olive oil\", \"soy sauce\", \"eggs\")~\"In large, deep frying pan with lid, place chicken breasts seasoned with salt and pepper, into 1 Tbl. olive oil and 1 teaspoon sesame oil.\", \"Cook over medium heat, covered, for 20 minutes, turning ocaisionally, til chicken is done.\", \"Remove chicken from pan to cool slightly. Cut into bite-sized pieces, toss with 1 teaspoon sesame oil, cover and set aside. Do not drain frying pan. Add 1 1/2 Tbl. sesame oil to pan.\", \"In pot, boil 3 pkgs. Ramen noodles for 3 minutes.\", \"Drain and RINSE WELL.\", \\n\"Drain again and add to frying pan with 2 Tbl. soy sauce, cole slaw mix, reserved chicken and 2 of the seasoning packets from noodles.\", \"Stir fry, stirring, over med-low heat for 3-5 minutes or til cabbage mix is tender and all is well mixed.\", \"Top each individual serving with sliced or chopped egg if desired.\", \"Also serve with additional soy sauce if desired.\", \"Makes 4-6 servings.\", \"*Do not substitute another oil for the sesame oil! That\\'s what really makes this dish.\", \"Nice additions: mushrooms, pea pods, water chestnuts, cooked broccoli and baby corn.\"\\n)',\n",
       " 'Greek Pita Bread~\"dry yeast\", \"salt\", \"sugar\", \"all-purpose white flour\", \"water\", \"olive oil\")~\"Combine the yeast and sugar in a small bowl, add 1/2 cup of the warm water and let it stand for 10 minutes to proof and ferment it.\", \"Dissolve the salt in the remaining warm water.\", \"Put the flour in a large mixing bowl, making a well in the middle and put the dissolved yeast and salt water into it.\", \"With your hands, blend it into a dough.\", \"You may need a bit more or less water depending on your flour.\", \"Knead the dough in the bowl with your fists for 10-15 minutes or until it is smooth.\", \\n\"Pour the oil over the dough and knead it again until the oil is absorbed.\", \"Cover the dough in the bowl with a towel and set it in a draft free area to rise to double it\\'s bulk (1-2 hours), then punch it down and knead it again for a few minutes.\", \"Preheat your oven to 350°F.\", \"Cut pieces of dough, egg size or larger, depending on the size of the pita desired, shape them into balls with your hands and roll them out over a lightly floured board or pastry cloth to 1/4 inch thickness.\", \"Set 2 or 3 pites on a lightly oiled cookies sheet and bake them on the lower rack 2 to 3 minutes each side.\", \\n\"Pitas should be white and soft.\", \"Wrap the baked pitas in a clean towel until they are cool, then store them in plastic bags to prevent them from drying out.\", \"When you are ready to use them, heat a bit of oil in a shallow skillet and fry them a minute or so on each side, or until golden brown.\", \"Use them immediately, because they get hard when they dry out.\")',\n",
       " 'Bannock~\"flour\", \"baking powder\", \"sugar\", \"salt\", \"water\")~\"Mix flour, baking powder, sugar and salt together.\", \"Mix with enough water so that the mixture becomes a dough.\", \"Form into 4-6 large, thick patties.\", \"Fry on lightly oiled frying pan, turning when the bottom is golden.\", \"(You may also bake in the oven.) Good served warm.\", \"If desired, spread with honey, jam, butter, or peanut butter.\", \"Traditionally bannock would have been made with whatever ingredients were on hand.\", \"For example, adding blueberries if they\\'re in season.\", \"This freezes well. Freeze, already baked, in a labeled ziploc bag with the air squeezed out as much as possible. To serve, bring to room temperature by removing from the bag and letting rest on the counter for a few hours. SPeed up the process, by baking or microwaving until the desired temperature is reached.\"\\n)',\n",
       " 'Sweet Chicken Skewers With a Peanut Dip~\"peanut butter\", \"soy sauce\", \"fresh cilantro\", \"fresh parsley\", \"fresh ginger\", \"garlic clove\", \"honey\", \"boneless skinless chicken breast\")~\"Whisk  all the ingredients but the chicken together.\", \"Place chicken in a zip lock bag add just enough marinade to coat the chicken and chill for 1 hour.\", \"Chill rest of sauce for dipping.\", \"Skewer chicken in a ribbon method onto soaked skewers.\", \"Grill on a well seasoned grill over med-high heat for about 7 minutes. Basting with the chicken marinade.\", \"Serve with chilled dip and fresh sliced cucumbers!\")',\n",
       " 'Rustic Italian Bread ABM~\"warm water\", \"olive oil\", \"bread flour\", \"all-purpose flour\", \"granulated sugar\", \"salt\", \"active dry yeast\", \"cornmeal\")~\"Add flour, oil, salt, sugar, yeast and water to your bread machine according to its instructions.\", \"Set on dough setting.\", \"Always follow your machines instructions,  when mixing open it and keep check on the dough.  Dough should be in a nice round soft sticky to the touch ball.  If it is not add more water,  or add flour which ever is needed.\", \"Remove when signal beeps and cycle is done.\", \"Preheat oven to 375Ã‚Â°F.\", \"Sprinkle cornflour or cornmeal onto a baking sheet.\", \"Punch dough down and form into a long or oval loaf.\", \\n\"Cover and let rise for 25 more minutes.\", \"It should be doubled again by this time.\", \"Uncover and slash the top with a sharp knife or razor.\", \"Brush all over with the beaten egg white.\", \"Bake 25 minutes to 35 minutes, until hollow sounding when tapped on bottom.\", \"Cool.\")']"
      ]
     },
     "execution_count": 26,
     "metadata": {},
     "output_type": "execute_result"
    }
   ],
   "source": [
    "rand_rec"
   ]
  },
  {
   "cell_type": "markdown",
   "id": "c90d209a",
   "metadata": {},
   "source": [
    "Test top 100 dictionary!"
   ]
  },
  {
   "cell_type": "code",
   "execution_count": 27,
   "id": "b165e313",
   "metadata": {},
   "outputs": [],
   "source": [
    "with open(r\"top100_dict.pickle\", \"rb\") as input_file:\n",
    "    top100_dict = pickle.load(input_file)"
   ]
  },
  {
   "cell_type": "code",
   "execution_count": 28,
   "id": "8ccd0466",
   "metadata": {},
   "outputs": [],
   "source": [
    "recipe_names = list(top100_dict.values())"
   ]
  },
  {
   "cell_type": "code",
   "execution_count": 1,
   "id": "b5ac8d45",
   "metadata": {},
   "outputs": [],
   "source": [
    "#recipe_names"
   ]
  },
  {
   "cell_type": "markdown",
   "id": "96758d38",
   "metadata": {},
   "source": [
    "Three NMF funcs"
   ]
  },
  {
   "cell_type": "code",
   "execution_count": 40,
   "id": "e2354f00",
   "metadata": {},
   "outputs": [],
   "source": [
    "recipe = a \n",
    "\n",
    "ratings = [5, 1 ,1 ,1, 1]"
   ]
  },
  {
   "cell_type": "code",
   "execution_count": 41,
   "id": "a9f5fbe8",
   "metadata": {},
   "outputs": [],
   "source": [
    "ratingss = map(int, ratings) #needs to be int\n",
    "user_rating = dict(zip(recipe,ratingss)) "
   ]
  },
  {
   "cell_type": "code",
   "execution_count": 42,
   "id": "fba8190c",
   "metadata": {},
   "outputs": [
    {
     "data": {
      "text/plain": [
       "{'Thick and Creamy New England Clam Chowder': 5,\n",
       " 'Wholesome Homemade Honey Whole Wheat Bread': 1,\n",
       " 'Smothered Pork Chops': 1,\n",
       " 'Creamy Coleslaw': 1,\n",
       " 'New York Crumb Cake': 1}"
      ]
     },
     "execution_count": 42,
     "metadata": {},
     "output_type": "execute_result"
    }
   ],
   "source": [
    "user_rating"
   ]
  },
  {
   "cell_type": "code",
   "execution_count": 76,
   "id": "0c922774",
   "metadata": {},
   "outputs": [],
   "source": [
    "def NMF_new_user(user_rating, recipes_dict, R_vec):  #user rating zipped dict in app file\n",
    "    \n",
    "    \"\"\"\n",
    "    Creates a df with the user input.\n",
    "    Takes the pickled dictionary index and the \n",
    "    user input to create a user df. Cols iterated\n",
    "    through to remove duplicates before concat. \n",
    "    User df then imputed with user-wise and \n",
    "    recipe wise means, and averaged. \n",
    "    \n",
    "    Future: impute with cat wise weighted mean\n",
    "    \"\"\"\n",
    "\n",
    "    visitor ='new_user'\n",
    "    user_input = pd.DataFrame(user_rating, index=[visitor])\n",
    "    \n",
    "    #create necessary df\n",
    "    recipe =pd.DataFrame(columns=recipes_dict.keys()) #takes values from pickled dict and makes into col names\n",
    "\n",
    "    #fix the issue of repeat cols\n",
    "    recipe_cols = list(recipe.columns)\n",
    "    user_input_cols = list(user_input.columns)\n",
    "    #print(user_input_cols)\n",
    "                           \n",
    "    for col in recipe_cols:\n",
    "        if col in  user_input_cols:\n",
    "            recipe.drop([col], axis=1, inplace=True)\n",
    "        else: \n",
    "            pass\n",
    "    new_user = pd.concat([recipe, user_input]) \n",
    "\n",
    "     #impute user with values (steps below)\n",
    "    user1 = new_user.T.fillna(new_user.mean(axis=1).round(2)).T.values\n",
    "    user2 = R_vec #R_vec is one row of the col wise imputed df as an array\n",
    "    user_i = (user1 + user2)/2\n",
    "    user_i\n",
    "\n",
    "    return(user_i) "
   ]
  },
  {
   "cell_type": "code",
   "execution_count": 77,
   "id": "0f62bc1e",
   "metadata": {},
   "outputs": [
    {
     "data": {
      "text/plain": [
       "array([[3.259375, 3.4     , 3.2     , ..., 3.      , 2.9375  , 3.      ]])"
      ]
     },
     "execution_count": 77,
     "metadata": {},
     "output_type": "execute_result"
    }
   ],
   "source": [
    "NMF_new_user(user_rating, recipes_dict, R_vec)"
   ]
  },
  {
   "cell_type": "code",
   "execution_count": 90,
   "id": "674064eb",
   "metadata": {},
   "outputs": [],
   "source": [
    "def NMF_model(user_i,model, Q, recipes_dict): \n",
    "\n",
    "    '''\n",
    "    takes imputer cold-start user vector \n",
    "    and transforms it using the model \n",
    "    to output a list of recommended recipe names\n",
    "\n",
    "    Future: hybrid model and NLP (with ratings)\n",
    "    '''\n",
    "\n",
    "    user_P = model.transform(user_i)\n",
    "    user_R = np.dot( user_P, Q)\n",
    "    \n",
    "    #df of predictions\n",
    "    reco = pd.DataFrame({'user_imputed':user_i[0], 'predicted_ratings':user_R[0]}, index = recipes_dict.keys())\n",
    "    reco_10 = reco.sort_values(by ='predicted_ratings', ascending= False).iloc[:10,:]\n",
    "    recommendation =list(reco_10.index)\n",
    "\n",
    "    #get values from dict based on recommendation (NOTE: probably needs work...)\n",
    "\n",
    "    return (recommendation) #formatted as list"
   ]
  },
  {
   "cell_type": "code",
   "execution_count": 91,
   "id": "6ec78a19",
   "metadata": {},
   "outputs": [
    {
     "data": {
      "text/plain": [
       "['Whipped Chocolate Cream Icing',\n",
       " 'Lemon Cake Pie',\n",
       " 'Fluffy Morning Pancakes',\n",
       " 'Creamy Chickpea Curry',\n",
       " 'Tender Crock Pot Turkey Breast',\n",
       " 'My Crock Pot Spaghetti Sauce',\n",
       " 'Peanut Butter and Pickle Sandwich',\n",
       " 'Bacon and Lettuce Stuffed Cherry Tomatoes',\n",
       " 'Crock Pot Candy',\n",
       " 'Cajun Chicken Alfredo']"
      ]
     },
     "execution_count": 91,
     "metadata": {},
     "output_type": "execute_result"
    }
   ],
   "source": [
    "NMF_model(user_i, m, Q, recipes_dict)"
   ]
  },
  {
   "cell_type": "code",
   "execution_count": 94,
   "id": "6f296d0d",
   "metadata": {},
   "outputs": [],
   "source": [
    "def NMF_output(user_rating):\n",
    "\n",
    "    '''\n",
    "    Small iterative function to go through list \n",
    "    of recommendations and return list \n",
    "    of matched dict values (with recipe instructions)\n",
    "    '''\n",
    "    user_i = NMF_new_user(user_rating, recipes_dict, R_vec)\n",
    "    recommendation = NMF_model(user_i,m, Q, recipes_dict)\n",
    "\n",
    "    recoreco = []\n",
    "\n",
    "    for k in recommendation:\n",
    "        if k in recipes_dict.keys():\n",
    "            recoreco.append(recipes_dict[k])\n",
    "\n",
    "    return(recoreco)"
   ]
  },
  {
   "cell_type": "code",
   "execution_count": 95,
   "id": "89c7a0aa",
   "metadata": {},
   "outputs": [
    {
     "data": {
      "text/plain": [
       "['Whipped Chocolate Cream Icing~cing sugar\"~\"Sift icing sugar and cocoa into a bowl.\", \"Add whipping cream and stir to mix.\", \"With beater whip as for whipping cream.\", \"This amount will very generously cover a large Angel cake or any other large cake.\")',\n",
       " 'Lemon Cake Pie~\"sugar\", \"butter\", \"all-purpose flour\", \"salt\", \"lemon peel\", \"fresh lemon juice\", \"eggs\", \"milk\")~\"Put rack on lowest position in oven.\", \"Preheat oven to 375.\", \"In a medium bowl, stir together melted butter and sugar.\", \"Stir in flour, salt, lemon peel and lemon juice.\", \"In a small bowl, beat egg yolks with milk until well blended, stir into lemon mixture.\", \"In another medium sized bowl, beat egg whites with an electric mixer until they hold distinct but moist peaks. Gently fold egg whites into lemon mixture. (Don\\'t mix it too much.).\", \"Pour filling into pie crust.\", \"I always end up with more filling than will fit in the pie crust so I put it in a couple ceramic rammekins and cook it along with the pie.\", \\n\"Bake on the lowest rack of the oven until the top is browned and the center jiggles only slightly when pan is gently shaken (45-55 minutes). If the crust begins to brown excessively, drape it with foil.\", \"Let cool before serving. But it\\'s good warm too!\")',\n",
       " 'Fluffy Morning Pancakes~\"all-purpose flour\", \"baking powder\", \"sugar\", \"salt\", \"milk\", \"butter\", \"margarine\", \"eggs\")~\"Combine all dry ingredients.\", \"Preheat electric skillet to 380º.\", \"Add butter and milk to eggs.\", \"Add dry ingredients.\", \"Stir just to dampen (not too much).\", \"Adjust milk so it’s thin enough to pour.\", \"Carefully butter skillet and pour pancakes to your desired size.  When you begin to see bubbles forming on top of your batter, it is time to flip.  Cook on second side until nicely browned.\")',\n",
       " 'Creamy Chickpea Curry~\"onion\", \"garlic cloves\", \"red curry paste\", \"chickpeas\", \"coconut milk\", \"soy sauce\", \"tomatoes\", \"brown sugar\", \"fresh lime juice\", \"fresh basil\", \"cilantro\", \"cooked jasmine rice\")~\"Heat oil in a large skillet over a medium high heat.\", \"Add onions and cook until they start to brown.\", \"Add garlic and curry.\", \"Stir-fry until garlic is soft and curry dissolved.\", \"Add chickpeas, Coconut Milk, and soy sauce.\", \"Bring to a boil and simmer 10 minutes.\", \"Add tomatoes, sugar, and lime juice.\", \"Simmer for 5 minutes.\", \"Stir in basil or cilantro until combined, and serve over rice.\")',\n",
       " 'Tender Crock Pot Turkey Breast~\"chicken broth\", \"butter\", \"Worcestershire sauce\", \"thyme\")~\"Rinse turkey breast and pat dry with paper towels.\", \"Place in crock pot breast side down.\", \"Pour chicken broth over turkey.\", \"Two hours into cooking time, mix other ingredients and pour over turkey.\", \"Make gravy with juices if desired.\", \"Cook 8-10 hours in crock pot on low.\")',\n",
       " 'My Crock Pot Spaghetti Sauce~\"ground beef\", \"ground pork\", \"onion\", \"diced tomatoes\", \"tomato paste\", \"tomato sauce\", \"bay leaves\", \"garlic cloves\", \"dried oregano\", \"salt\", \"dried basil\", \"brown sugar\", \"dried thyme\")~\"Brown meats and onion in a skillet and drain well.\", \"Transfer to your crock pot.\", \"Add remaining ingredients and mix well.\", \"Cover and cook on low for 8-10 hours.\", \"Serve over hot spaghetti noodles.\")',\n",
       " 'Peanut Butter and Pickle Sandwich~eanut butter\"~\"Spread peanut butter on both slices of bread.\", \"Lay pickles on one slice of bread.\", \"Cover with other slice of bread.\", \"Enjoy!\")',\n",
       " 'Bacon and Lettuce Stuffed Cherry Tomatoes~\"cherry tomatoes\", \"fresh chives\", \"green onion\", \"bacon\", \"lettuce\", \"mayonnaise\")~\"Cut the top off the tomatoes, scoop out the seeds& pulp. Use the seeds & puld in some other recipe.\", \"Salt the inside of the tomato and put them upside down on a paper towel to drain for about15 minutes.\", \"Meanwhile combine the bacon, chives, lettuce and Mayo, season with salt and pepper (remember that you have already salted the inside of the tomatoes).\", \"Fill the tomatoes just before serving.\")',\n",
       " 'Crock Pot Candy~\"unsalted dry roasted peanuts\", \"German chocolate bars\")~\"Put peanuts in bottom of crock pot; add other ingredients.\", \"Cook on low setting for 1 1/2 to 2 hours.\", \"Place rounded spoonfuls onto wax paper and allow to cool.\")',\n",
       " 'Cajun Chicken Alfredo~\"boneless skinless chicken breast halves\", \"butter\", \"margarine\", \"green onion\", \"heavy cream\", \"dried basil\", \"lemon-pepper seasoning\", \"salt\", \"garlic powder\", \"pepper\", \"linguine\", \"parmesan cheese\")~\"Place chicken and Cajun seasoning in a bowl or resealable plastic bag, toss or shake to coat.\", \"In a large skillet over medium heat sauté chicken in butter until almost tender, about 5-7 minutes.\", \"Add onion; cook and stir for 2-3 minutes.\", \"Reduce heat.\", \"Add cream and seasonings -- 1/4  teaspoon dried basil\", \"1/4  teaspoon lemon-pepper seasoning\", \"1/4  teaspoon salt\", \"1/8  teaspoon garlic powder\", \"1/8  teaspoon pepper ; heat through.\", \"Add linguine and toss; heat through.\")']"
      ]
     },
     "execution_count": 95,
     "metadata": {},
     "output_type": "execute_result"
    }
   ],
   "source": [
    "NMF_output(user_rating)"
   ]
  },
  {
   "cell_type": "code",
   "execution_count": null,
   "id": "af594111",
   "metadata": {},
   "outputs": [],
   "source": [
    "#note: in this file model called m, in the app files called m "
   ]
  }
 ],
 "metadata": {
  "kernelspec": {
   "display_name": "Python 3 (ipykernel)",
   "language": "python",
   "name": "python3"
  },
  "language_info": {
   "codemirror_mode": {
    "name": "ipython",
    "version": 3
   },
   "file_extension": ".py",
   "mimetype": "text/x-python",
   "name": "python",
   "nbconvert_exporter": "python",
   "pygments_lexer": "ipython3",
   "version": "3.9.7"
  }
 },
 "nbformat": 4,
 "nbformat_minor": 5
}
