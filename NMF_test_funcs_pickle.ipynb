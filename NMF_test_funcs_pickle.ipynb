{
 "cells": [
  {
   "cell_type": "code",
   "execution_count": 97,
   "id": "1ad3cb65",
   "metadata": {},
   "outputs": [],
   "source": [
    "#standard libs\n",
    "import numpy as np\n",
    "import pandas  as pd\n",
    "import numpy as np\n",
    "import matplotlib.pyplot as plt\n",
    "import seaborn as sns\n",
    "import pickle\n",
    "import random\n",
    "\n",
    "#Sklearn\n",
    "from sklearn.preprocessing import FunctionTransformer\n",
    "from sklearn.decomposition import NMF\n",
    "from sklearn import decomposition, datasets, model_selection, preprocessing, metrics"
   ]
  },
  {
   "cell_type": "markdown",
   "id": "5c3023b0",
   "metadata": {},
   "source": [
    "Get random recipes for cold user"
   ]
  },
  {
   "cell_type": "code",
   "execution_count": 96,
   "id": "ea5d0eb6",
   "metadata": {},
   "outputs": [
    {
     "data": {
      "text/plain": [
       "['Pork Chops with Crust of Onions',\n",
       " 'Firehouse Chili',\n",
       " 'Hobo Casserole',\n",
       " 'Strawberry Heaven',\n",
       " 'Thick Chocolate Pudding']"
      ]
     },
     "execution_count": 96,
     "metadata": {},
     "output_type": "execute_result"
    }
   ],
   "source": [
    "rand_df = pd.read_csv('INFO_FINAL.csv')\n",
    "a = list(rand_df['recipe'].sample(n=5))\n",
    "a #list of recipes to randomly rate"
   ]
  },
  {
   "cell_type": "markdown",
   "id": "3031b6f1",
   "metadata": {},
   "source": [
    "Load pickles!"
   ]
  },
  {
   "cell_type": "code",
   "execution_count": 98,
   "id": "1298ce70",
   "metadata": {},
   "outputs": [],
   "source": [
    "#model\n",
    "\n",
    "with open(r\"nmf_130.pickle\", \"rb\") as input_file:\n",
    "    m = pickle.load(input_file)\n",
    "Q = m.components_"
   ]
  },
  {
   "cell_type": "code",
   "execution_count": 99,
   "id": "a2a42d74",
   "metadata": {},
   "outputs": [],
   "source": [
    "#dictionary (for index and output)\n",
    "\n",
    "with open(r\"recipes_dict.pickle\", \"rb\") as input_file:\n",
    "    recipes_dict= pickle.load(input_file)\n",
    "#recipes_dict"
   ]
  },
  {
   "cell_type": "code",
   "execution_count": 100,
   "id": "f70e2fd1",
   "metadata": {},
   "outputs": [],
   "source": [
    "#R_vector for imp method\n",
    "\n",
    "with open(r\"R_vec.pickle\", \"rb\") as input_file:\n",
    "    R_vec= pickle.load(input_file)\n",
    "#R_vec"
   ]
  },
  {
   "cell_type": "markdown",
   "id": "9e5574d6",
   "metadata": {},
   "source": [
    "Initialise cold user"
   ]
  },
  {
   "cell_type": "code",
   "execution_count": 7,
   "id": "ed955755",
   "metadata": {},
   "outputs": [],
   "source": [
    "recipes = a \n",
    "\n",
    "ratings = [5, 1 ,1 ,1, 1]"
   ]
  },
  {
   "cell_type": "code",
   "execution_count": 8,
   "id": "b7541c93",
   "metadata": {},
   "outputs": [
    {
     "data": {
      "text/plain": [
       "['Thick and Creamy New England Clam Chowder',\n",
       " 'Wholesome Homemade Honey Whole Wheat Bread',\n",
       " 'Smothered Pork Chops',\n",
       " 'Creamy Coleslaw',\n",
       " 'New York Crumb Cake']"
      ]
     },
     "execution_count": 8,
     "metadata": {},
     "output_type": "execute_result"
    }
   ],
   "source": [
    "a"
   ]
  },
  {
   "cell_type": "markdown",
   "id": "2d55e018",
   "metadata": {},
   "source": [
    "Process cold start user with python (as done in app page, not in function -> output of this fed to func)"
   ]
  },
  {
   "cell_type": "code",
   "execution_count": 9,
   "id": "83840760",
   "metadata": {},
   "outputs": [
    {
     "data": {
      "text/plain": [
       "{'Thick and Creamy New England Clam Chowder': 5,\n",
       " 'Wholesome Homemade Honey Whole Wheat Bread': 1,\n",
       " 'Smothered Pork Chops': 1,\n",
       " 'Creamy Coleslaw': 1,\n",
       " 'New York Crumb Cake': 1}"
      ]
     },
     "execution_count": 9,
     "metadata": {},
     "output_type": "execute_result"
    }
   ],
   "source": [
    "ratings = map(int, ratings) #needs to be int\n",
    "user_rating = dict(zip(recipes,ratings)) \n",
    "user_rating"
   ]
  },
  {
   "cell_type": "code",
   "execution_count": 10,
   "id": "fde98c66",
   "metadata": {},
   "outputs": [
    {
     "data": {
      "text/html": [
       "<div>\n",
       "<style scoped>\n",
       "    .dataframe tbody tr th:only-of-type {\n",
       "        vertical-align: middle;\n",
       "    }\n",
       "\n",
       "    .dataframe tbody tr th {\n",
       "        vertical-align: top;\n",
       "    }\n",
       "\n",
       "    .dataframe thead th {\n",
       "        text-align: right;\n",
       "    }\n",
       "</style>\n",
       "<table border=\"1\" class=\"dataframe\">\n",
       "  <thead>\n",
       "    <tr style=\"text-align: right;\">\n",
       "      <th></th>\n",
       "      <th>Thick and Creamy New England Clam Chowder</th>\n",
       "      <th>Wholesome Homemade Honey Whole Wheat Bread</th>\n",
       "      <th>Smothered Pork Chops</th>\n",
       "      <th>Creamy Coleslaw</th>\n",
       "      <th>New York Crumb Cake</th>\n",
       "    </tr>\n",
       "  </thead>\n",
       "  <tbody>\n",
       "    <tr>\n",
       "      <th>new_user</th>\n",
       "      <td>5</td>\n",
       "      <td>1</td>\n",
       "      <td>1</td>\n",
       "      <td>1</td>\n",
       "      <td>1</td>\n",
       "    </tr>\n",
       "  </tbody>\n",
       "</table>\n",
       "</div>"
      ],
      "text/plain": [
       "          Thick and Creamy New England Clam Chowder  \\\n",
       "new_user                                          5   \n",
       "\n",
       "          Wholesome Homemade Honey Whole Wheat Bread  Smothered Pork Chops  \\\n",
       "new_user                                           1                     1   \n",
       "\n",
       "          Creamy Coleslaw  New York Crumb Cake  \n",
       "new_user                1                    1  "
      ]
     },
     "execution_count": 10,
     "metadata": {},
     "output_type": "execute_result"
    }
   ],
   "source": [
    "visitor ='new_user'\n",
    "user_input = pd.DataFrame(user_rating, index=[visitor])\n",
    "user_input"
   ]
  },
  {
   "cell_type": "markdown",
   "id": "f8571a95",
   "metadata": {},
   "source": [
    "Step by step testing of NMF function for in recommender page"
   ]
  },
  {
   "cell_type": "code",
   "execution_count": 11,
   "id": "5f18008e",
   "metadata": {},
   "outputs": [],
   "source": [
    "recipe =pd.DataFrame(columns= recipes_dict.keys())\n",
    "#recipe"
   ]
  },
  {
   "cell_type": "code",
   "execution_count": 12,
   "id": "f488359e",
   "metadata": {},
   "outputs": [],
   "source": [
    "#process recipe so dont get repeat cols with concat\n",
    "\n",
    "recipe_cols = list(recipe.columns)\n",
    "user_input_cols = list(user_input.columns)\n",
    "user_"
   ]
  },
  {
   "cell_type": "code",
   "execution_count": 13,
   "id": "5f5f52fb",
   "metadata": {},
   "outputs": [],
   "source": [
    "for col in recipe_cols:\n",
    "        if col in  user_input_cols:\n",
    "            recipe.drop([col], axis=1, inplace=True)\n",
    "        else: \n",
    "            pass"
   ]
  },
  {
   "cell_type": "code",
   "execution_count": 14,
   "id": "c9971973",
   "metadata": {},
   "outputs": [],
   "source": [
    "new_user = pd.concat([recipe, user_input])\n",
    "#new_user"
   ]
  },
  {
   "cell_type": "code",
   "execution_count": 15,
   "id": "8922afda",
   "metadata": {},
   "outputs": [
    {
     "data": {
      "text/plain": [
       "5.0"
      ]
     },
     "execution_count": 15,
     "metadata": {},
     "output_type": "execute_result"
    }
   ],
   "source": [
    "#imputing user mean -> output is array to combine with R_vec\n",
    "\n",
    "user1= new_user.T.fillna(new_user.mean(axis=1).round(2)).T.values\n",
    "user1.max()"
   ]
  },
  {
   "cell_type": "code",
   "execution_count": 16,
   "id": "daf5db72",
   "metadata": {},
   "outputs": [
    {
     "data": {
      "text/plain": [
       "5.0"
      ]
     },
     "execution_count": 16,
     "metadata": {},
     "output_type": "execute_result"
    }
   ],
   "source": [
    "user_i = (user1 + R_vec)/2\n",
    "user_i.max() #user_i max 5.0 !!!<3"
   ]
  },
  {
   "cell_type": "code",
   "execution_count": 17,
   "id": "c0773ed3",
   "metadata": {},
   "outputs": [
    {
     "data": {
      "text/plain": [
       "5.0"
      ]
     },
     "execution_count": 17,
     "metadata": {},
     "output_type": "execute_result"
    }
   ],
   "source": [
    "R_vec.max()"
   ]
  },
  {
   "cell_type": "code",
   "execution_count": 18,
   "id": "9acce4b4",
   "metadata": {},
   "outputs": [],
   "source": [
    "user_P = m.transform(user_i)\n",
    "user_R = np.dot( user_P, Q) #repickle model... "
   ]
  },
  {
   "cell_type": "markdown",
   "id": "c3cbf7b2",
   "metadata": {},
   "source": [
    "Get the recommendations"
   ]
  },
  {
   "cell_type": "code",
   "execution_count": 19,
   "id": "b7a41936",
   "metadata": {},
   "outputs": [
    {
     "data": {
      "text/html": [
       "<div>\n",
       "<style scoped>\n",
       "    .dataframe tbody tr th:only-of-type {\n",
       "        vertical-align: middle;\n",
       "    }\n",
       "\n",
       "    .dataframe tbody tr th {\n",
       "        vertical-align: top;\n",
       "    }\n",
       "\n",
       "    .dataframe thead th {\n",
       "        text-align: right;\n",
       "    }\n",
       "</style>\n",
       "<table border=\"1\" class=\"dataframe\">\n",
       "  <thead>\n",
       "    <tr style=\"text-align: right;\">\n",
       "      <th></th>\n",
       "      <th>user_imputed</th>\n",
       "      <th>predicted_ratings</th>\n",
       "    </tr>\n",
       "  </thead>\n",
       "  <tbody>\n",
       "    <tr>\n",
       "      <th>1 Pan Fudge Cake</th>\n",
       "      <td>3.259375</td>\n",
       "      <td>3.259773</td>\n",
       "    </tr>\n",
       "    <tr>\n",
       "      <th>15 Bean Soup</th>\n",
       "      <td>3.400000</td>\n",
       "      <td>3.398051</td>\n",
       "    </tr>\n",
       "    <tr>\n",
       "      <th>15 Minute Garlic Lemon Chicken</th>\n",
       "      <td>3.200000</td>\n",
       "      <td>3.201630</td>\n",
       "    </tr>\n",
       "    <tr>\n",
       "      <th>15 Minute Shrimp Scampi</th>\n",
       "      <td>3.300000</td>\n",
       "      <td>3.301894</td>\n",
       "    </tr>\n",
       "    <tr>\n",
       "      <th>2 Ingredient Pumpkin Muffins</th>\n",
       "      <td>3.328571</td>\n",
       "      <td>3.331025</td>\n",
       "    </tr>\n",
       "    <tr>\n",
       "      <th>...</th>\n",
       "      <td>...</td>\n",
       "      <td>...</td>\n",
       "    </tr>\n",
       "    <tr>\n",
       "      <th>our favorite italian beef</th>\n",
       "      <td>5.000000</td>\n",
       "      <td>3.398086</td>\n",
       "    </tr>\n",
       "    <tr>\n",
       "      <th>roasted zucchini with thyme</th>\n",
       "      <td>2.750000</td>\n",
       "      <td>3.155045</td>\n",
       "    </tr>\n",
       "    <tr>\n",
       "      <th>strawberry filling</th>\n",
       "      <td>3.000000</td>\n",
       "      <td>3.397621</td>\n",
       "    </tr>\n",
       "    <tr>\n",
       "      <th>tastes like a slice of pizza dip</th>\n",
       "      <td>2.937500</td>\n",
       "      <td>3.336657</td>\n",
       "    </tr>\n",
       "    <tr>\n",
       "      <th>veal marsala</th>\n",
       "      <td>3.000000</td>\n",
       "      <td>3.398218</td>\n",
       "    </tr>\n",
       "  </tbody>\n",
       "</table>\n",
       "<p>5043 rows × 2 columns</p>\n",
       "</div>"
      ],
      "text/plain": [
       "                                  user_imputed  predicted_ratings\n",
       "1 Pan Fudge Cake                      3.259375           3.259773\n",
       "15 Bean Soup                          3.400000           3.398051\n",
       "15 Minute Garlic Lemon Chicken        3.200000           3.201630\n",
       "15 Minute Shrimp Scampi               3.300000           3.301894\n",
       "2 Ingredient Pumpkin Muffins          3.328571           3.331025\n",
       "...                                        ...                ...\n",
       "our favorite italian beef             5.000000           3.398086\n",
       "roasted zucchini with thyme           2.750000           3.155045\n",
       "strawberry filling                    3.000000           3.397621\n",
       "tastes like a slice of pizza dip      2.937500           3.336657\n",
       "veal marsala                          3.000000           3.398218\n",
       "\n",
       "[5043 rows x 2 columns]"
      ]
     },
     "execution_count": 19,
     "metadata": {},
     "output_type": "execute_result"
    }
   ],
   "source": [
    "reco = pd.DataFrame({'user_imputed':user_i[0], 'predicted_ratings':user_R[0]}, index = recipes_dict.keys())\n",
    "reco #can see some basically the same, some quite different (from imputed..)"
   ]
  },
  {
   "cell_type": "code",
   "execution_count": 20,
   "id": "8554b259",
   "metadata": {},
   "outputs": [
    {
     "data": {
      "text/plain": [
       "['Whipped Chocolate Cream Icing',\n",
       " 'Lemon Cake Pie',\n",
       " 'Fluffy Morning Pancakes',\n",
       " 'Creamy Chickpea Curry',\n",
       " 'Tender Crock Pot Turkey Breast',\n",
       " 'My Crock Pot Spaghetti Sauce',\n",
       " 'Peanut Butter and Pickle Sandwich',\n",
       " 'Bacon and Lettuce Stuffed Cherry Tomatoes',\n",
       " 'Crock Pot Candy',\n",
       " 'Cajun Chicken Alfredo']"
      ]
     },
     "execution_count": 20,
     "metadata": {},
     "output_type": "execute_result"
    }
   ],
   "source": [
    "reco_10 = reco.sort_values(by ='predicted_ratings', ascending= False).iloc[:10,:]\n",
    "recommendation =list(reco_10.index)\n",
    "recommendation\n",
    "#reco_10\n",
    "\n",
    "#interestingly top ratings not super close to five..bc input was 2 and 1 perhaps?"
   ]
  },
  {
   "cell_type": "code",
   "execution_count": 24,
   "id": "2fb413d6",
   "metadata": {},
   "outputs": [],
   "source": [
    "#for loop to print out the key values! (below is the one which goes into func and returns output!)\n",
    "\n",
    "#for k in recommendation:\n",
    "    #if k in recipes_dict.keys():\n",
    "        #print (recipes_dict[k])"
   ]
  },
  {
   "cell_type": "code",
   "execution_count": 22,
   "id": "5d1ae804",
   "metadata": {},
   "outputs": [],
   "source": [
    "recoreco = []\n",
    "\n",
    "for k in recommendation:\n",
    "    if k in recipes_dict.keys():\n",
    "        recoreco.append(recipes_dict[k])"
   ]
  },
  {
   "cell_type": "code",
   "execution_count": 23,
   "id": "19651c7c",
   "metadata": {},
   "outputs": [
    {
     "data": {
      "text/plain": [
       "['Whipped Chocolate Cream Icing~cing sugar\"~\"Sift icing sugar and cocoa into a bowl.\", \"Add whipping cream and stir to mix.\", \"With beater whip as for whipping cream.\", \"This amount will very generously cover a large Angel cake or any other large cake.\")',\n",
       " 'Lemon Cake Pie~\"sugar\", \"butter\", \"all-purpose flour\", \"salt\", \"lemon peel\", \"fresh lemon juice\", \"eggs\", \"milk\")~\"Put rack on lowest position in oven.\", \"Preheat oven to 375.\", \"In a medium bowl, stir together melted butter and sugar.\", \"Stir in flour, salt, lemon peel and lemon juice.\", \"In a small bowl, beat egg yolks with milk until well blended, stir into lemon mixture.\", \"In another medium sized bowl, beat egg whites with an electric mixer until they hold distinct but moist peaks. Gently fold egg whites into lemon mixture. (Don\\'t mix it too much.).\", \"Pour filling into pie crust.\", \"I always end up with more filling than will fit in the pie crust so I put it in a couple ceramic rammekins and cook it along with the pie.\", \\n\"Bake on the lowest rack of the oven until the top is browned and the center jiggles only slightly when pan is gently shaken (45-55 minutes). If the crust begins to brown excessively, drape it with foil.\", \"Let cool before serving. But it\\'s good warm too!\")',\n",
       " 'Fluffy Morning Pancakes~\"all-purpose flour\", \"baking powder\", \"sugar\", \"salt\", \"milk\", \"butter\", \"margarine\", \"eggs\")~\"Combine all dry ingredients.\", \"Preheat electric skillet to 380º.\", \"Add butter and milk to eggs.\", \"Add dry ingredients.\", \"Stir just to dampen (not too much).\", \"Adjust milk so it’s thin enough to pour.\", \"Carefully butter skillet and pour pancakes to your desired size.  When you begin to see bubbles forming on top of your batter, it is time to flip.  Cook on second side until nicely browned.\")',\n",
       " 'Creamy Chickpea Curry~\"onion\", \"garlic cloves\", \"red curry paste\", \"chickpeas\", \"coconut milk\", \"soy sauce\", \"tomatoes\", \"brown sugar\", \"fresh lime juice\", \"fresh basil\", \"cilantro\", \"cooked jasmine rice\")~\"Heat oil in a large skillet over a medium high heat.\", \"Add onions and cook until they start to brown.\", \"Add garlic and curry.\", \"Stir-fry until garlic is soft and curry dissolved.\", \"Add chickpeas, Coconut Milk, and soy sauce.\", \"Bring to a boil and simmer 10 minutes.\", \"Add tomatoes, sugar, and lime juice.\", \"Simmer for 5 minutes.\", \"Stir in basil or cilantro until combined, and serve over rice.\")',\n",
       " 'Tender Crock Pot Turkey Breast~\"chicken broth\", \"butter\", \"Worcestershire sauce\", \"thyme\")~\"Rinse turkey breast and pat dry with paper towels.\", \"Place in crock pot breast side down.\", \"Pour chicken broth over turkey.\", \"Two hours into cooking time, mix other ingredients and pour over turkey.\", \"Make gravy with juices if desired.\", \"Cook 8-10 hours in crock pot on low.\")',\n",
       " 'My Crock Pot Spaghetti Sauce~\"ground beef\", \"ground pork\", \"onion\", \"diced tomatoes\", \"tomato paste\", \"tomato sauce\", \"bay leaves\", \"garlic cloves\", \"dried oregano\", \"salt\", \"dried basil\", \"brown sugar\", \"dried thyme\")~\"Brown meats and onion in a skillet and drain well.\", \"Transfer to your crock pot.\", \"Add remaining ingredients and mix well.\", \"Cover and cook on low for 8-10 hours.\", \"Serve over hot spaghetti noodles.\")',\n",
       " 'Peanut Butter and Pickle Sandwich~eanut butter\"~\"Spread peanut butter on both slices of bread.\", \"Lay pickles on one slice of bread.\", \"Cover with other slice of bread.\", \"Enjoy!\")',\n",
       " 'Bacon and Lettuce Stuffed Cherry Tomatoes~\"cherry tomatoes\", \"fresh chives\", \"green onion\", \"bacon\", \"lettuce\", \"mayonnaise\")~\"Cut the top off the tomatoes, scoop out the seeds& pulp. Use the seeds & puld in some other recipe.\", \"Salt the inside of the tomato and put them upside down on a paper towel to drain for about15 minutes.\", \"Meanwhile combine the bacon, chives, lettuce and Mayo, season with salt and pepper (remember that you have already salted the inside of the tomatoes).\", \"Fill the tomatoes just before serving.\")',\n",
       " 'Crock Pot Candy~\"unsalted dry roasted peanuts\", \"German chocolate bars\")~\"Put peanuts in bottom of crock pot; add other ingredients.\", \"Cook on low setting for 1 1/2 to 2 hours.\", \"Place rounded spoonfuls onto wax paper and allow to cool.\")',\n",
       " 'Cajun Chicken Alfredo~\"boneless skinless chicken breast halves\", \"butter\", \"margarine\", \"green onion\", \"heavy cream\", \"dried basil\", \"lemon-pepper seasoning\", \"salt\", \"garlic powder\", \"pepper\", \"linguine\", \"parmesan cheese\")~\"Place chicken and Cajun seasoning in a bowl or resealable plastic bag, toss or shake to coat.\", \"In a large skillet over medium heat sauté chicken in butter until almost tender, about 5-7 minutes.\", \"Add onion; cook and stir for 2-3 minutes.\", \"Reduce heat.\", \"Add cream and seasonings -- 1/4  teaspoon dried basil\", \"1/4  teaspoon lemon-pepper seasoning\", \"1/4  teaspoon salt\", \"1/8  teaspoon garlic powder\", \"1/8  teaspoon pepper ; heat through.\", \"Add linguine and toss; heat through.\")']"
      ]
     },
     "execution_count": 23,
     "metadata": {},
     "output_type": "execute_result"
    }
   ],
   "source": [
    "recoreco"
   ]
  },
  {
   "cell_type": "markdown",
   "id": "96408330",
   "metadata": {},
   "source": [
    "Test random function for app!"
   ]
  },
  {
   "cell_type": "code",
   "execution_count": 25,
   "id": "5782dc42",
   "metadata": {},
   "outputs": [],
   "source": [
    "#rand_rec= random.choice(list(recipes_dict.values()), size=k)\n",
    "\n",
    "rand_rec = random.sample(list(recipes_dict.values()), 5)"
   ]
  },
  {
   "cell_type": "code",
   "execution_count": 26,
   "id": "92d00bfe",
   "metadata": {},
   "outputs": [
    {
     "data": {
      "text/plain": [
       "['Chinese Chicken Lo Mein~\"boneless skinless chicken breasts\", \"olive oil\", \"soy sauce\", \"eggs\")~\"In large, deep frying pan with lid, place chicken breasts seasoned with salt and pepper, into 1 Tbl. olive oil and 1 teaspoon sesame oil.\", \"Cook over medium heat, covered, for 20 minutes, turning ocaisionally, til chicken is done.\", \"Remove chicken from pan to cool slightly. Cut into bite-sized pieces, toss with 1 teaspoon sesame oil, cover and set aside. Do not drain frying pan. Add 1 1/2 Tbl. sesame oil to pan.\", \"In pot, boil 3 pkgs. Ramen noodles for 3 minutes.\", \"Drain and RINSE WELL.\", \\n\"Drain again and add to frying pan with 2 Tbl. soy sauce, cole slaw mix, reserved chicken and 2 of the seasoning packets from noodles.\", \"Stir fry, stirring, over med-low heat for 3-5 minutes or til cabbage mix is tender and all is well mixed.\", \"Top each individual serving with sliced or chopped egg if desired.\", \"Also serve with additional soy sauce if desired.\", \"Makes 4-6 servings.\", \"*Do not substitute another oil for the sesame oil! That\\'s what really makes this dish.\", \"Nice additions: mushrooms, pea pods, water chestnuts, cooked broccoli and baby corn.\"\\n)',\n",
       " 'Greek Pita Bread~\"dry yeast\", \"salt\", \"sugar\", \"all-purpose white flour\", \"water\", \"olive oil\")~\"Combine the yeast and sugar in a small bowl, add 1/2 cup of the warm water and let it stand for 10 minutes to proof and ferment it.\", \"Dissolve the salt in the remaining warm water.\", \"Put the flour in a large mixing bowl, making a well in the middle and put the dissolved yeast and salt water into it.\", \"With your hands, blend it into a dough.\", \"You may need a bit more or less water depending on your flour.\", \"Knead the dough in the bowl with your fists for 10-15 minutes or until it is smooth.\", \\n\"Pour the oil over the dough and knead it again until the oil is absorbed.\", \"Cover the dough in the bowl with a towel and set it in a draft free area to rise to double it\\'s bulk (1-2 hours), then punch it down and knead it again for a few minutes.\", \"Preheat your oven to 350°F.\", \"Cut pieces of dough, egg size or larger, depending on the size of the pita desired, shape them into balls with your hands and roll them out over a lightly floured board or pastry cloth to 1/4 inch thickness.\", \"Set 2 or 3 pites on a lightly oiled cookies sheet and bake them on the lower rack 2 to 3 minutes each side.\", \\n\"Pitas should be white and soft.\", \"Wrap the baked pitas in a clean towel until they are cool, then store them in plastic bags to prevent them from drying out.\", \"When you are ready to use them, heat a bit of oil in a shallow skillet and fry them a minute or so on each side, or until golden brown.\", \"Use them immediately, because they get hard when they dry out.\")',\n",
       " 'Bannock~\"flour\", \"baking powder\", \"sugar\", \"salt\", \"water\")~\"Mix flour, baking powder, sugar and salt together.\", \"Mix with enough water so that the mixture becomes a dough.\", \"Form into 4-6 large, thick patties.\", \"Fry on lightly oiled frying pan, turning when the bottom is golden.\", \"(You may also bake in the oven.) Good served warm.\", \"If desired, spread with honey, jam, butter, or peanut butter.\", \"Traditionally bannock would have been made with whatever ingredients were on hand.\", \"For example, adding blueberries if they\\'re in season.\", \"This freezes well. Freeze, already baked, in a labeled ziploc bag with the air squeezed out as much as possible. To serve, bring to room temperature by removing from the bag and letting rest on the counter for a few hours. SPeed up the process, by baking or microwaving until the desired temperature is reached.\"\\n)',\n",
       " 'Sweet Chicken Skewers With a Peanut Dip~\"peanut butter\", \"soy sauce\", \"fresh cilantro\", \"fresh parsley\", \"fresh ginger\", \"garlic clove\", \"honey\", \"boneless skinless chicken breast\")~\"Whisk  all the ingredients but the chicken together.\", \"Place chicken in a zip lock bag add just enough marinade to coat the chicken and chill for 1 hour.\", \"Chill rest of sauce for dipping.\", \"Skewer chicken in a ribbon method onto soaked skewers.\", \"Grill on a well seasoned grill over med-high heat for about 7 minutes. Basting with the chicken marinade.\", \"Serve with chilled dip and fresh sliced cucumbers!\")',\n",
       " 'Rustic Italian Bread ABM~\"warm water\", \"olive oil\", \"bread flour\", \"all-purpose flour\", \"granulated sugar\", \"salt\", \"active dry yeast\", \"cornmeal\")~\"Add flour, oil, salt, sugar, yeast and water to your bread machine according to its instructions.\", \"Set on dough setting.\", \"Always follow your machines instructions,  when mixing open it and keep check on the dough.  Dough should be in a nice round soft sticky to the touch ball.  If it is not add more water,  or add flour which ever is needed.\", \"Remove when signal beeps and cycle is done.\", \"Preheat oven to 375Ã‚Â°F.\", \"Sprinkle cornflour or cornmeal onto a baking sheet.\", \"Punch dough down and form into a long or oval loaf.\", \\n\"Cover and let rise for 25 more minutes.\", \"It should be doubled again by this time.\", \"Uncover and slash the top with a sharp knife or razor.\", \"Brush all over with the beaten egg white.\", \"Bake 25 minutes to 35 minutes, until hollow sounding when tapped on bottom.\", \"Cool.\")']"
      ]
     },
     "execution_count": 26,
     "metadata": {},
     "output_type": "execute_result"
    }
   ],
   "source": [
    "rand_rec"
   ]
  },
  {
   "cell_type": "markdown",
   "id": "c90d209a",
   "metadata": {},
   "source": [
    "Test top 100 dictionary!"
   ]
  },
  {
   "cell_type": "code",
   "execution_count": 27,
   "id": "b165e313",
   "metadata": {},
   "outputs": [],
   "source": [
    "with open(r\"top100_dict.pickle\", \"rb\") as input_file:\n",
    "    top100_dict = pickle.load(input_file)"
   ]
  },
  {
   "cell_type": "code",
   "execution_count": 28,
   "id": "8ccd0466",
   "metadata": {},
   "outputs": [],
   "source": [
    "recipe_names = list(top100_dict.values())"
   ]
  },
  {
   "cell_type": "code",
   "execution_count": 29,
   "id": "b5ac8d45",
   "metadata": {},
   "outputs": [
    {
     "data": {
      "text/plain": [
       "['Bourbon Chicken~(\"boneless chicken breasts\", \"olive oil\", \"garlic clove\", \"ginger\", \"crushed red pepper flakes\", \"light brown sugar\", \"ketchup\", \"cider vinegar\", \"water\", \"soy sauce\")~Editor\\'s Note:  Named Bourbon Chicken because it was supposedly created by a Chinese cook who worked in a restaurant on Bourbon Street.\", \"Heat oil in a large skillet.\", \"Add chicken pieces and cook until lightly browned.\", \"Remove chicken.\", \"Add remaining ingredients, heating over medium Heat until well mixed and dissolved.\", \"Add chicken and bring to a hard boil.\", \"Reduce heat and simmer for 20 minutes.\", \"Serve over hot rice and ENJOY.\")',\n",
       " 'To Die for Crock Pot Roast~(\"beef roast\", \"water\")~Place beef roast in crock pot.\", \"Mix the dried mixes together in a bowl and sprinkle over the roast.\", \"Pour the water around the roast.\", \"Cook on low for 7-9 hours.\", \"Optional tweaks:\", \"1. Use onion soup mix instead of ranch.\", \"2. Add one cup of red wine along with the water.\", \"3. Add potatoes, carrots, mushrooms, celery and onion 2-3 hours before end.\")',\n",
       " 'Best Ever Banana Cake With Cream Cheese Frosting~(\"bananas\", \"lemon juice\", \"flour\", \"baking soda\", \"salt\", \"butter\", \"sugar\", \"eggs\", \"vanilla\", \"buttermilk\", \"butter\", \"cream cheese\", \"vanilla\", \"icing sugar\", \"walnuts\")~Preheat oven to 275°F (135C).\", \"Grease and flour a 9 x 13 pan.\", \"In a small bowl, mix mashed banana with the lemon juice; set aside.\", \"In a medium bowl, mix flour, baking soda and salt; set aside.\", \"In a large bowl, cream 3/4 cup butter and  2 1/8 cups sugar until light and fluffy.\", \"Beat in eggs, one at a time, then stir in 2 tsp vanilla.\", \"Beat in the flour mixture alternately with the buttermilk.\", \"Stir in banana mixture.\", \"Pour batter into prepared pan and bake in preheated oven for one hour or until toothpick inserted in center comes out clean.\", \\n\"Remove from oven and place directly into the freezer for 45 minutes.  This will make the cake very moist.\", \"For the frosting, cream the butter and cream cheese until smooth.\", \"Beat in 1 teaspoon vanilla.\", \"Add icing sugar and beat on low speed until combined, then on high speed until frosting is smooth.\", \"Spread on cooled cake.\", \"Sprinkle chopped walnuts over top of the frosting, if desired.\")',\n",
       " 'Yes, Virginia There is a Great Meatloaf~(\"ground beef\", \"egg\", \"sweet onion\", \"table salt\", \"black pepper\", \"ketchup\", \"half-and-half\", \"apple cider vinegar\", \"dark brown sugar\", \"ketchup\")~Meatloaf: Combine meat loaf ingredients and place into a loaf baking dish.\", \"Smooth out top.\", \"Sauce: Combine sauce ingredients and pour on top and sides of meatloaf.\", \"Bake at 350°F about 1 hour to 1 hour 15 minutes or until done.\", \"ENJOY!\", \"*The addition of 1 or 2 teaspoons of Kitchen Bouquet® makes this recipe very good.\", \"**Recipe should be\\\\\"plump\\\\\" from the addition of the milk or Half & Half.\", \"It should NOT be runny.\", \"***A second batch of sauce served hot is good to serve with the meatloaf.\", \\n\"Nita\\'s Note: I note that some of you are using game meat such as deer -- Deer is a very DRY meat. It is wise to HAVE some fat added to the deer -- especially to ground deer. Maybe 25 % fat, ( I recommend 1 lb of ground venison, and 1/2 lb of deer sausage for fat content), otherwise your results will be poor. I don\\'t know about some of the other game meat some are using. Please consult an expert. The recipe is delicious as it stands! Enjoy! Nita Holleman.\")',\n",
       " 'Jo Mama\\'s World Famous Spaghetti~(\"Italian sausage\", \"onion\", \"garlic cloves\", \"diced tomatoes\", \"tomato paste\", \"tomato sauce\", \"water\", \"basil\", \"dried parsley flakes\", \"brown sugar\", \"salt\", \"crushed red pepper flakes\", \"fresh coarse ground black pepper\", \"red wine\", \"parmesan cheese\")~In large, heavy stockpot, brown Italian sausage, breaking up as you stir.\", \"Add onions and continue to cook, stirring occasionally until onions are softened.\", \"Add garlic, tomatoes, tomato paste, tomato sauce and water.\", \"Add basil, parsley, brown sugar, salt, crushed red pepper, and black pepper.\", \"Stir well and barely bring to a boil.\", \"Stir in red wine.\", \"Simmer on low, stirring frequently for at least an hour.  A longer simmer makes for a better sauce, just be careful not to let it burn!\", \\n\"Cook spaghetti according to package directions.\", \"Spoon sauce over drained spaghetti noodles and sprinkle with parmesan cheese.\")',\n",
       " 'Pancakes~(\"egg\", \"milk\", \"butter\", \"margarine\", \"flour\", \"sugar\", \"baking powder\", \"salt\")~Beat egg until fluffy.\", \"Add milk and melted margarine.\", \"Add dry ingredients and mix well.\", \"Heat a heavy griddle or fry pan which is greased with a little butter on a paper towel.\", \"The pan is hot enough when a drop of water breaks into several smaller balls which \\'dance\\' around the pan.\", \"Pour a small amount of batter (approx 1/4 cup) into pan and tip to spread out or spread with spoon.\", \"When bubbles appear on surface and begin to break, turn over and cook the other side.\")',\n",
       " 'Kittencal\\'s Italian Melt-In-Your-Mouth Meatballs~(\"ground beef\", \"egg\", \"parmesan cheese\", \"garlic\", \"salt\", \"fresh ground black pepper\", \"milk\", \"dried oregano\", \"fresh parsley\")~Mix all ingredients together in a large bowl.\", \"Shape into small meatballs (at this point you can place on a jelly-roll/baking sheet and freeze to use later, or cover with plastic wrap refrigerate up to 24 hours before using).\", \"Drop the meatballs into simmering pasta sauce, do not stir for at least 20 minutes or you will risk breaking the meatballs.\", \"Continue cooking in the simmering sauce for another 20 minutes (depending on how fast your sauce is simmering 40 minutes total should fully cook the meatballs).\", \\n\"After the 40 minutes cooking time continue cooking your sauce with the meatballs in for as long as desired.\", \"**note**  you may also bake the meatballs at 350 degrees F for 25 minutes or until cooked through.\")',\n",
       " 'Beer Bread~(\"flour\", \"baking powder\", \"salt\", \"sugar\", \"beer\", \"butter\")~Preheat oven to 375 degrees.\", \"Mix dry ingredients and beer.\", \"Pour into a greased loaf pan.\", \"Pour melted butter over mixture.\", \"Bake 1 hour, remove from pan and cool for at least 15 minutes.\", \"UPDATED NOTES: This recipe makes a very hearty bread with a crunchy, buttery crust. If you prefer a softer crust (like a traditional bread) mix the butter into the batter instead of pouring it over the top.\", \"Sifting flour for bread recipes is a must-do. Most people just scoop the 1 cup measure in the flour canister and level it off. That compacts the flour and will turn your bread into a \\\\\"hard biscuit\\\\\" as some have described. That\\'s because they aren\\'t sifting their flour! If you do not have a sifter, use a spoon to spoon the flour into the 1 cup measure. Try it once the \\\\\"correct\\\\\" way and you will see an amazing difference in the end product.\", \\n\"I have had many email from you kind folks about using non-alcoholic beverages instead of beer. That is fine to do but I highly recommend adding a packet of Dry Active Yeast or 2 teaspoons of Bread (Machine) Yeast so that you get a proper rise.\", \"The final result should be a thick, hearty and very tasteful bread, NOT A BRICK! ;).\", \"Thank you all for the incredibly nice comments and those of you who left a bad review - learn to sift sift SIFT! You will be amazed at the results you get.\")',\n",
       " 'Japanese Mum\\'s Chicken~(\"chicken drumsticks\", \"water\", \"soy sauce\", \"sugar\", \"garlic clove\", \"hot chili pepper\")~Place all the ingredients in a saucepan over a high heat.\", \"Bring to the boil, then reduce to a simmer for about 20 minutes.\", \"Remove any scum that rises to the surface.\", \"Increase the heat, turning the drumsticks frequently in the liquid, and cook until the liquid has reduced to a sticky glaze.\", \"Arrange the chicken on a serving platter, remove the garlic clove and chili from the liquid, and spoon the glaze over.\", \"NOTE It\\'s a glaze rather than a sauce, so there\\'s not a whole lot of it.\"\\n)',\n",
       " 'Kittencal\\'s Moist Cheddar-Garlic Oven Fried Chicken Breast~(\"butter\", \"garlic\", \"garlic powder\", \"seasoning salt\", \"cheddar cheese\", \"parmesan cheese\", \"ground black pepper\", \"boneless skinless chicken breasts\")~Preheat oven to 350°F.\", \"Butter an 11 x 7-inch pan (if using more than 4 breasts use a larger pan).\", \"In a bowl, combine melted butter with fresh minced garlic, 1 teaspoon garlic powder and salt.\", \"In another bowl, combine the dry breadcrumbs with 1/2 cup finely grated cheddar cheese, Parmesan cheese 1 teaspoon garlic powder and coarse ground black pepper.\", \"Dip chicken in butter mixture; then in crumb mixture.\", \"Place in prepared pan and bake uncovered for 35-45 minutes or until cooked through, larger breasts may take more time (placing the chicken on a rack in a pan will produce an extra crispy crust).\", \\n\"Top with shredded cheddar or mozzarella the last 5 minutes of cooking (this is only optional.\")',\n",
       " 'Banana Banana Bread~(\"all-purpose flour\", \"baking soda\", \"salt\", \"butter\", \"brown sugar\", \"eggs\", \"bananas\")~Preheat oven to 350°.\", \"Lightly grease 9 x 5 loaf pan.\", \"In large bowl, combine flour, soda and salt.\", \"In separate bowl, cream together butter and brown sugar.\", \"Stir in eggs and mashed bananas until well blended.\", \"Stir banana mixture into flour mixture; stir just to moisten.\", \"Pour batter into prepared loaf pan.\", \"Bake in preheated oven for 60-65 minutes until a toothpick inserted into center of loaf comes out clean.\", \"Let bread cool in pan for 10 minutes, then turn out onto a wire rack.\"\\n)',\n",
       " 'Scalloped Potatoes~(\"potatoes\", \"butter\", \"flour\", \"milk\", \"salt\", \"cayenne pepper\", \"sharp cheddar cheese\", \"cheese\", \"paprika\")~In a small sauce pan, melt butter and blend in flour.\", \"Let sit for a minute.\", \"Add all of cold milk, stirring with a whisk.\", \"Season with salt and cayenne.\", \"Cook sauce on low until smooth and boiling, stirring occasionally with a whisk.\", \"Reduce heat and stir in cheese.\", \"Place a half of the sliced potatoes in a lightly greased one quart casserole dish.\", \"Pour half of cheese sauce over potatoes.\", \"Repeat with second layer of potatoes and cheese sauce.\", \"Sprinkle the remaining cheese on top.\", \\n\"Top with some paprika for color.\", \"Bake uncovered for about 1 hour at 350°F.\")',\n",
       " 'The Best Easy Beef and Broccoli Stir-Fry~(\"cornstarch\", \"water\", \"water\", \"garlic powder\", \"boneless round steak\", \"broccoli florets\", \"onion\", \"reduced sodium soy sauce\", \"brown sugar\", \"ground ginger\", \"cooked rice\", \"toasted sesame seeds\")~In a bowl, combine 2 tablespoons cornstarch, 2 tablespoons water and garlic powder until smooth.\", \"Add beef and toss.\", \"In a large skillet or wok over medium-high heat, stir-fry beef in 1 tablespoon oil until beef reaches desired doneness; remove and keep warm.\", \"Stir-fry onion in remaining oil for 4-5 minutes until softened. Add the broccoli and cook for 3 minutes until the broccoli is tender but still crisp. Return beef to pan.\", \"Combine soy sauce, brown sugar, ginger and remaining 1 tablespoon cornstarch and 1/2 cup water until smooth; add to the pan.\", \\n\"Cook and stir for 2 minutes.\", \"Serve over rice and garnish with toasted sesame seeds (optional).\")',\n",
       " 'Fannie Farmer\\'s Classic Baked Macaroni &amp; Cheese~(\"macaroni\", \"butter\", \"flour\", \"milk\", \"salt\", \"fresh ground black pepper\", \"cheddar cheese\")~Preheat oven to 400°F.\", \"Cook and drain macaroni according to package directions; set aside.\", \"In a large saucepan melt butter.\", \"Add flour mixed with salt and pepper, using a whisk to stir until well blended.\", \"Pour milk and cream in gradually; stirring constantly.\", \"Bring to boiling point and boil 2 minutes (stirring constantly).\", \"Reduce heat and cook (stirring constantly) 10 minutes.\", \"Add shredded cheddar little by little and simmer an additional 5 minutes, or until cheese melts.\", \\n\"Turn off flame.\", \"Add macaroni to the saucepan and toss to coat with the cheese sauce.\", \"Transfer macaroni to a buttered baking dish.\", \"Sprinkle with breadcrumbs.\", \"Bake 20 minutes until the top is golden brown.\", \"(You can also freeze this recipe in zip-lock bags for later use - once you have mixed the macaroni along with the cheese sauce allow to cool to room temperature before adding to your freezer - I generally pull it out the night before and allow macaroni and cheese to reach room temperature; I then add the macaroni and cheese to a buttered baking dish, sprinkle with bread crumbs and then bake for 20 to 30 minutes, until golden brown on top and bubbling.\"\\n)',\n",
       " 'Southern Buttermilk Biscuits~(\"unbleached all-purpose flour\", \"baking soda\", \"baking powder\", \"kosher salt\", \"salt\", \"unsalted butter\", \"buttermilk\")~Preheat your oven to 450°F.\", \"Combine the dry ingredients in a bowl, or in the bowl of a food processor.\", \"Cut the butter into chunks and cut into the flour until it resembles course meal.\", \"If using a food processor, just pulse a few times until this consistency is achieved.\", \"Add the buttermilk and mix JUST until combined.\", \"If it appears on the dry side, add a bit more buttermilk. It should be very wet.\", \"Turn the dough out onto a floured board.\", \"Gently, gently PAT (do NOT roll with a rolling pin) the dough out until it\\'s about 1/2\\\\\" thick. Fold the dough about 5 times, gently press the dough down to a 1 inch thick.\", \\n\"Use a round cutter to cut into rounds.\", \"You can gently knead the scraps together and make a few more, but they will not be anywhere near as good as the first ones.\", \"Place the biscuits on a cookie sheet- if you like soft sides, put them touching each other.\", \"If you like\\\\\"crusty\\\\\" sides, put them about 1 inch apart- these will not rise as high as the biscuits put close together.\", \"Bake for about 10-12 minutes- the biscuits will be a beautiful light golden brown on top and bottom.\", \"Do not overbake.\", \\n\"Note: The key to real biscuits is not in the ingredients, but in the handling of the dough.\", \"The dough must be handled as little as possible or you will have tough biscuits.\", \"I have found that a food processor produces superior biscuits, because the ingredients stay colder and there\\'s less chance of overmixing.\", \"You also must pat the dough out with your hands, lightly.\", \"Rolling with a rolling pin is a guaranteed way to overstimulate the gluten, resulting in a tougher biscuit.\", \"Note 2: You can make these biscuits, cut them, put them on cookie sheets and freeze them for up to a month.\", \\n\"When you want fresh biscuits, simply place them frozen on the cookie sheet and bake at 450°F for about 20 minutes.\")',\n",
       " 'Simply Sour Cream Chicken Enchiladas~(\"chicken breast\", \"onion\", \"flour tortillas\", \"monterey jack cheese\", \"butter\", \"flour\", \"chicken broth\", \"sour cream\", \"green chilies\", \"fresh chili peppers\")~In a frying pan, cook chicken and onion together in oil over medium-high heat until chicken is just done.\", \"Divide cooked chicken evenly between 8 tortillas; add 1 1/2 tablespoons cheese to each tortilla.\", \"Roll enchiladas and place seam-side down in a 9x13\\\\\" baking dish that has been lightly sprayed with no-stick cooking spray.\", \"Melt butter in a medium saucepan; stir in flour to make a roux, stir and cook until bubbly, and gradually whisk in chicken broth then bring to boiling, stirring frequently.\", \\n\"Remove from heat; stir in sour cream and green chilies.\", \"Pour sauce evenly over enchiladas.\", \"Top with remaining 3/4 cup cheese (a baking dish may be double-wrapped and frozen at this point) and bake at 400° F for 20 minutes until cheese is melted and sauce near edges of baking dish is bubbly.\")',\n",
       " 'Soft Snickerdoodle Cookies~(\"butter\", \"sugar\", \"eggs\", \"flour\", \"cream of tartar\", \"baking soda\", \"salt\", \"sugar\", \"cinnamon\", \"vanilla extract\")~Preheat oven to 350°F.\", \"Mix softened butter, 1 1/2 cups sugar, 1tps of vanilla extract and eggs thoroughly in a large bowl.\", \"Combine flour, cream of tartar, baking soda and salt in a separate bowl.\", \"Blend dry ingredients into butter mixture.\", \"Chill dough, and chill an ungreased cookie sheet for about 10-15 minutes in the fridge.\", \"Meanwhile, mix 3 tablespoons sugar, and 3 teaspoons cinnamon in a small bowl.\", \"Scoop 1 inch globs of dough into the sugar/ cinnamon mixture.\", \"Coat by gently rolling balls of dough in the sugar mixture.\", \\n\"Place on chilled ungreased cookie sheet, and bake 10 minutes.\", \"Remove from pan immediately.\")',\n",
       " 'Panera\\'s Cream Cheese Potato Soup~(\"chicken broth\", \"potatoes\", \"seasoning salt\", \"white pepper\", \"cream cheese\")~Combine broth, potatoes, and spices.\", \"Boil on medium heat until potatoes are tender.\", \"Smash a few of the potatoes to release their starch for thickening.\", \"Reduce to low heat.\", \"Add cream cheese.\", \"Heat, stirring frequently, until cheese melts.\")',\n",
       " 'Delicious Chicken Pot Pie~(\"potato\", \"onion\", \"celery\", \"carrot\", \"margarine\", \"all-purpose flour\", \"chicken broth\", \"half-and-half\", \"salt\", \"pepper\", \"chicken\")~Preheat oven to 400°F.\", \"Saute onion, celery, carrots and potatoes in margarine for 10 minutes.\", \"Add flour to sauteed mixture, stirring well, cook one minute stirring constantly.\", \"Combine broth and half and half.\", \"Gradually stir into vegetable mixture.\", \"Cook over medium heat stirring constantly until thickened and bubbly.\", \"Stir in salt and pepper; add chicken and stir well.\", \"Pour into shallow 2 quart casserole dish and top with pie shells.\", \"Cut slits to allow steam to escape.\", \\n\"Bake for 40-50 minutes or until pastry is golden brown and filling is bubbly and cooked through.\")',\n",
       " 'My Family\\'s Favorite Sloppy Joes (Pizza Joes)~(\"ground beef\", \"celery\", \"onion\", \"tomato sauce\", \"ketchup\", \"barbecue sauce\", \"brown sugar\", \"dry mustard\", \"Worcestershire sauce\", \"vinegar\")~In a large skillet, brown ground beef, celery and onion.\", \"Drain the fat, who needs it?.\", \"Stir in remaining ingredients, simmer covered, 15-20 minutes, stirring occasionally.\", \"If Joes appear too\\'loose\\', leave cover off and let moisture evaporate.\", \"Cook until it\\'s the consistency you like for serving on toasted buns, with french fries and cole slaw.\")',\n",
       " 'Beth\\'s Melt in Your Mouth Barbecue Ribs (Oven)~(\"light brown sugar\", \"hickory smoke salt\", \"paprika\", \"garlic powder\", \"barbecue sauce\")~Preheat oven to 300 degrees F. Line a baking sheet with two layers of foil, shiny side out.\", \"Peel off tough membrane that covers the bony side of the ribs.\", \"Season the ribs on both sides with salt and pepper. If using, divide the Hickory liquid smoke evenly over the ribs.\", \"In a medium bowl, combine the light brown sugar, paprika, garlic powder and ground red pepper. Apply the rub to all sides of the ribs.\", \"Lay ribs on the prepared baking sheet, meaty side down. BONE SIDE DOWN FOR GRILLING!\", \\n\"Lay two layers of foil on top of ribs and roll and crimp edges tightly, edges facing up to seal.\", \"Transfer to the oven and = bake for 2-2 1/2 hours or until meat is starting to shrink away from the ends of the bone.\", \"Remove from oven.\", \"Heat broiler.\", \"Cut ribs into serving sized portions of 2 or 3 ribs.\", \"Arrange on broiler pan, bony side up.\", \"Brush on sauce.\", \"Broil for 1 or 2 minutes until sauce is cooked on and bubbly.\", \"Turn ribs over.\", \"Repeat on other side.\", \"Alternately, you can grill the ribs on your grill to cook on the sauce.\"\\n)',\n",
       " 'Pete\\'s Scratch Pancakes~(\"flour\", \"sugar\", \"salt\", \"baking powder\", \"eggs\", \"butter\", \"milk\")~Mix the dry items first.\", \"Combine the eggs and melted butter to the milk and slowly stir into the flour mixture.\", \"Heat the griddle to325 F or the pan to medium high let sit at least 10 minutes while heating the griddle orpan.\", \"These will be high, but light and fluffy -- .\")',\n",
       " 'Crock Pot Cream Cheese Chicken~(\"chicken pieces\", \"butter\", \"onion\", \"garlic clove\", \"cream cheese\", \"chicken broth\")~Place chicken pieces in crock pot and sprinkle Italian seasoning over chicken. Sprinkle with 2 tablespoons melted butter.\", \"Cook on low for 4-6 hours.\", \"Melt 2 tablespoons butter in a sauce pan and saute onion and garlic. Add Cream of Chicken Soup, cream cheese, and chicken broth. Stir until smooth.\", \"Add this mixture to crock pot and cook on low for an additional hour.\")',\n",
       " 'Chicken Lazone~(\"salt\", \"chili powder\", \"onion powder\", \"garlic powder\", \"butter\", \"heavy cream\")~Combine the seasonings and coat chicken breasts.\", \"In large saute pan melt half of the butter and cook chicken over medium heat for about 7 to 8 minutes, turning once.\", \"Pour the cream into the skillet and lower the heat.\", \"Simmer for several minutes, stirring until the sauce thickens then add the remaining butter.\", \"When butter is melted place chicken breasts on four plates and top with the sauce.\")',\n",
       " 'Mexican Rice~(\"tomatoes\", \"long grain white rice\", \"canola oil\", \"minced garlic cloves\", \"chicken broth\", \"tomato paste\", \"salt\", \"fresh cilantro\", \"lime\")~Adjust rack to middle position and preheat oven to 350.\", \"Process tomato and onion in processor or blender until pureed and thoroughly smooth. Transfer mixture to measuring cup and reserve exactly 2 cups. Discard excess.\", \"Remove ribs and seeds from 2 jalapenos and discard. Mince flesh and set aside. Mince remaining jalapeno. Set aside.\", \"Place rice in a fine mesh strainer and rinse under cold running water until water runs clear- about 1 1/2 minutes.Shake rice vigorously to remove excess water.This step removes the starch from the rice so it will not stick. IF YOU OMIT THIS STEP YOUR RICE WILL NOT BE DRY AND FLUFFY.\", \\n\"Heat oil in heavy bottomed ovensafe 12 inch straight sided sautee pan or Dutch oven with tight fitting lid over low-medium heat about 2 minutes. (The recipe is very specific about this but I used a 10 inch dutch oven and it worked out fine.) Drop a few rice grains in and if they sizzle then it is ready. Add rice and fry stirring until rice is light golden and translucent, about 6-8 minutes.  Be careful that the oil doesn\\'t get too hot too fast or the oil will splatter.\", \"Reduce heat to medium, add garlic and 2 minced jalapenos and cook , stirring constantly until fragrant, about 1 1/2 minutes.\", \\n\"Stir in broth, pureed mixture,tomato paste, and salt. Increase heat to medium high, and bring to a boil.\", \"Cover pan and transfer pan to oven to bake until liquid is absorbed and rice is tender, 30-35 minutes.Stir well after 15 minutes.\", \"Stir in cilantro, minced jalapeno to taste, and pass lime wedges separately.\", \"Edited to add 6-15-05: If you can\\'t get good fresh tomatoes you are better off using canned tomatoes. Don\\'t use those awful hard and underipe tomatoes that are at most supermarket chains. Just be sure that the processed tomatoes and the one onion equals 2 cups. One the other hand- if you find that after processing your tomatoes and onions that you have less than 2 cups- simply add enough bottled salsa to make up the difference.\", \\n\"Edited 8-21-06: Do not skip any of the steps. It may seem stupid- but rinsing the rice to remove the starch is very important if you want fluffy rice. It will only take two minutes of your time but it makes the difference.\", \"Edited 8-15-08: Leftovers are just as delicious the next day so this is a perfect dish to make ahead time for potlucks. This rice also freezes well. For Freezing Ahead: Cool, portion and freeze in a ziploc bag. To reheat from frozen: Place in a pyrex dish and warm in the microwave, stirring every 2-3 minutes until heated through.\", \\n\"You\\'ll love this rice! Money back guarantee.\")',\n",
       " 'Pulled Pork (Crock Pot)~(\"onions\", \"ginger ale\", \"barbecue sauce\", \"barbecue sauce\")~Slice one onion and place in crock pot.\", \"Put in the roast and cover with the other onion, sliced. Pour over the ginger ale. Cover and cook on LOW for about 12 hours. See Note2 below regarding amount of time needed!\", \"Remove the meat, strain and save the onions, discard all liquid. With two forks, shred the meat, discarding any remaining fat, bones or skin. Most of the fat will have melted away.\", \"Return the shredded meat and the onions to the crock pot, stir in the barbecue sauce. Continue to cook for another 4 to 6 hours on LOW.\", \\n\"Serve with hamburger buns or rolls and additional barbecue sauce. Any leftovers freeze very well.\", \"TIP: freeze ready-made sandwiches - a scoop of meat on a bun, well-wrapped. These make a great quick meal or snack. To reheat, remove wrapping, wrap in a paper towel, and zap 1-2 minute in the microwave.\", \"Note: Shoulder or butt are recommended because the meat shreds very well. Other cuts do not shred as readily. It is a fattier cut, but the fat melts away in the cooking and is poured away when you discard the liquid.\", \\n\"Note 2: I have an older, smaller crock pot. The above times work perfectly for me. But if you have a newer or bigger crock pot, you may need to revise times downward, esp. after the bbq sauce is added. I think you need at least a couple of hours for it all to meld, but that may be all you need. Update: I recently bought a bigger crockpot, I think 5 or 6 qts. I cooked a 6 lb pork shoulder in it for 8 hours and it was shreddable at that point. Shredded, added the sauce, and cooked for another hour or so to meld everything. So use your best judgment on timing!\", \\n\"Note3: You might want to turn your roast over after it\\'s cooked a while, to ensure more even cooking. I think this may depend on the size and shape of your roast and the size of your slow cooker. Remember that each time you remove the lid you lose heat and be careful, as turning a large piece of meat is awkward.\", \"Note4: my sister says this takes 2 hours in the Instapot.  I don\\'t have one, up to you to figure out the steps.\")',\n",
       " 'Greek Potatoes (Oven-Roasted and Delicious!)~(\"potatoes\", \"garlic cloves\", \"olive oil\", \"water\", \"dried oregano\", \"lemon\", \"sea salt\", \"fresh coarse ground black pepper\")~Preheat oven to 420°F  A reviewer has suggested spraying the baking pan with Pam - that sounds like a great idea!\", \"Put all the ingredients into a baking pan large enough to hold them.\", \"Season generously with sea salt and black pepper.\", \"Make sure your hands are very clean and put them in the pan and give everything a toss to distribute.\", \"The garlic will drop into the water/oil solution but its flavour will permeate the potatoes, and this way, it won\\'t burn.\", \"Bake for 40 minutes.\", \"When a nice golden-brown crust has formed on the potatoes, give them a stir to bring the white underside up, season lightly with a bit more sea salt and pepper and just a light sprinkling of oregano.\", \\n\"Add 1/2 cup more water if pan appears to be getting dry, and pop back into oven to brown other side of potatoes.\", \"This will take about another 40 minutes.\", \"Do not be afraid of overcooking the potatoes- they will be delicious.\", \"Note:  I often melt a bouillon cube in the water; if you do, make sure to cut back some on the salt.\")',\n",
       " 'Kittencal\\'s 5-Minute Cinnamon Flop Brunch Cake~(\"all-purpose flour\", \"sugar\", \"milk\", \"vanilla\", \"baking powder\", \"salt\", \"egg\", \"brown sugar\", \"cinnamon\", \"butter\", \"walnuts\", \"pecans\")~Set oven to 350 degrees F.\", \"Prepare a greased 13 x 9-inch baking dish, or two 8 or 9-inch round cake pans (although the batter will seem like it will fit into only one 8 or 9-inch pan, this flop rises very high and will run over the sides if baked in just one pan).\", \"In a bowl mix the 2 cups flour, 1-1/4 cups white sugar, milk, vanilla or almond extract, baking powder, pinch of salt and egg (if using) until just combined careful not to overmix.\", \"Pour into prepared baking pan/s.\", \"Generously spread brown sugar and cinnamon on top.\", \\n\"If desired sprinkle chopped walnuts or pecans over top.\", \"Drizzle melted butter over top.\", \"Bake for about 20-25 minutes for 8 or 9-inch round cake pan, and about 30 minutes for a 13 x 9-inch pan.\")',\n",
       " 'Chicken Tortilla Soup II~(\"carrots\", \"celery\", \"onions\", \"garlic powder\", \"garlic clove\", \"salt\", \"pepper\", \"chicken broth\", \"tomatoes\", \"Rotel tomatoes & chilies\", \"corn\", \"chicken meat\", \"milk\", \"sour cream\", \"monterey jack cheese\", \"corn tortilla chips\")~Saute carrots, onions, celery in corn oil, garlic, salt and pepper until  tender.\", \"Add chicken broth and bring to boil.\", \"Add tomatoes, Rotel, taco seasoning, and chicken.\", \"Cut Tortillas into small pieces and add to broth mixture.\", \"Let boil for 45 minutes or until tortillas are thoroughly incorporated into soup stirring occasionally to keep from sticking.\", \"Reduce heat and add 8 oz. cheese. Simmer for additional 10 minutes.\", \"Add milk and simmer for additional 10 minutes.\", \"If thicker soup is desired, add more diced tortillas and let incorporate into soup.\", \\n\"Garnish with shredded cheese and broken tortilla chips.\", \"Substitutions: 1 cup Masa Harina (Masa Flour) for 1 10 ct. package of corn tortillas.\", \"Mix masa with 1 cup cold water, then add masa flour mix into soup.  If thicker soup is  desired, add more masa/water mix.\", \"If you don\\'t want  to use the seasoning packet, substitute 1/2 teaspoons cumin + 1 tsp, chili powder.\", \"You can also use grilled chicken fajita meat for poached diced chicken.\", \"NOTE: If you use FLOUR tortillas, as some people have, you WILL end up with a \\\\\"TORTILLA MESS\\\\\", this recipe is for CORN tortillas. Don\\'t go blaming me and giving me a bad review because you used the wrong stuff.\"\\n)',\n",
       " 'Better Than Olive Garden Alfredo Sauce~(\"sweet butter\", \"olive oil\", \"garlic cloves\", \"heavy cream\", \"white pepper\", \"parmesan cheese\", \"mozzarella cheese\", \"angel hair pasta\", \"parsley\", \"cracked black pepper\")~Melt butter in medium saucepan with olive oil over medium/low heat.\", \"Add the garlic, cream, white pepper and bring mixture to a simmer.\", \"Stir often.\", \"Add the Parmesan cheese and simmer sauce for 8-10 minutes or until sauce has thickened and is smooth.\", \"When sauce has thickened add the Mozzarella cheese and stir until smooth.            STIR FREQUENTLY.\", \"While the sauce cooks, boil noodles for 3-5 minutes.\", \"Place pasta on serving plates and spoon sauce over pasta.\", \"Garnish with parsley, freshly cracked black pepper and more grated parmesan (optional).\"\\n)',\n",
       " 'Spinach Artichoke Dip~(\"parmesan cheese\", \"frozen chopped spinach\", \"artichoke hearts\", \"sour cream\", \"cream cheese\", \"mayonnaise\", \"garlic\")~Preheat oven to 375°F.\", \"Mix together Parmesan cheese, spinach, and artichoke hearts.\", \"Combine remaining ingredients and mix with spinach mixture.\", \"Bake for 20-30 minutes.\", \"Serve with crackers or toasted bread.\")',\n",
       " 'Panera Broccoli Cheese Soup~(\"butter\", \"onion\", \"butter\", \"flour\", \"half-and-half cream\", \"fresh broccoli\", \"carrot\", \"nutmeg\", \"sharp cheddar cheese\")~Sauté onion in butter. Set aside.\", \"Cook melted butter and flour using a whisk over medium heat for 3-5 minutes or until you see a noticeable golden brown color in your pan.\", \"Slowly add in the chicken stock and whisk again to combine. Simmer contents covered (stirring occasionally) for 20 minutes on medium heat.\", \"Add the broccoli, carrots and the sauteed onions, into the pot. Stir, add the milk and half & half. Cook covered over low heat 20-25 minutes but do not bring to a boil. This may cause the milk to curdle.\", \\n\"Add salt, pepper & nutmeg. Note: you can purée half of your soup in a blender or with a handheld immersion blender if you choose however it isn\\'t a requirement. Continue to cook the soup on low heat and slowly add the grated cheese a handful at a time and stir to avoid clumps. Once all the cheese has been added is melted, remove from heat, and serve immediately. Suggestion: serve with crusty bread or in a breadbowl.\", \"Refrigerate leftovers after they have cooled and store in a airtight container up to 5 days in the refrigerator.\"\\n)',\n",
       " 'Kittencal\\'s Chocolate Frosting/Icing~(\"butter\", \"confectioners\\' sugar\", \"half-and-half cream\", \"milk\", \"vanilla\")~Cream the butter in a small bowl.\", \"Blend in the cocoa powder (the amount desired for a light, medium or dark flavor), vanilla, confectioners sugar, alternately with the cream.\", \"Beat with an electric mixer, until the desired texture is achieved.\", \"**NOTE** because of the additional cocoa powder more cream may have to be added in to reach desired consistency.\")',\n",
       " 'Authentic Italian Meatballs~(\"ground beef\", \"eggs\", \"milk\", \"salt\", \"fresh parsley\", \"garlic powder\", \"fresh ground pepper\")~Mix all ingredients in a large bowl by hand.\", \"Use your bare hands for best results.\", \"Roll meatballs to about the size of a golf ball. (wet your hands to prevent the meat from sticking to them while rolling the meat balls).\", \"Drop raw meatballs into large (I use a stock pot) pot of sauce.\", \"(I have an incredible sauce recipe {#92096} I use for my meatballs).\", \"Simmer for about 3 hours.\")',\n",
       " 'Should Be Illegal Oven BBQ Ribs~(\"honey\", \"paprika\", \"chili powder\", \"garlic powder\", \"onion powder\", \"dark brown sugar\", \"fresh ground pepper\", \"onion\", \"barbecue sauce\", \"white sugar\")~Place all ingredients together in large roasting pan (i use bottom of turkey roaster).\", \"Cut ribs apart for easier serving.\", \"Mix together making sure to coat all ribs with this semi-dry paste.\", \"Spread ribs out evenly on bottom of pan.\", \"cover lightly with foil.\", \"Bake at 375 degrees for approximately 1 hour.\", \"Turning or stirring occasionally.\", \"You can use broiler for these ribs, just watch more closely, and adjust cooking time.\", \"These ribs are also great finished on the grill for a few minutes on each side.\"\\n)',\n",
       " 'MaMa\\'s Supper Club Tilapia Parmesan~(\"lemon juice\", \"parmesan cheese\", \"butter\", \"mayonnaise\", \"green onions\", \"seasoning salt\", \"dried basil\", \"black pepper\")~Preheat oven to 350 degrees.\", \"In buttered 13-by-9-inch baking dish or jellyroll pan, lay fillets in single layer.\", \"Do not stack fillets.\", \"Brush top with juice.\", \"In bowl combine cheese, butter, mayonnaise, onions and seasonings.\", \"Mix well with fork.\", \"Bake fish in preheated oven 10 to 20 minutes or until fish just starts to flake.\", \"Spread with cheese mixture and bake until golden brown, about 5 minutes.\", \"Baking time will depend on the thickness of the fish you use.\", \"Watch fish closely so that it does not overcook.\", \\n\"Makes 4 servings.\", \"Note: This fish can also be made in a broiler.\", \"Broil 3 to 4 minutes or until almost done.\", \"Add cheese and broil another 2 to 3 minutes or until browned.\", \"Thank you Mama\\'s Supper Club in Wisconsin.\")',\n",
       " 'Kittencal\\'s Chicken Crescent Roll Casserole~(\"cheddar cheese\", \"swiss cheese\", \"cream cheese\", \"butter\", \"garlic powder\", \"onion\", \"cheddar cheese\", \"seasoning salt\", \"ground black pepper\", \"mayonnaise\", \"cheddar cheese\")~Set oven to 350°F.\", \"Butter a casserole dish (any size to hold crescent rolls).\", \"In a saucepan, mix half and half cream, 3/4 cup grated cheese (can use more cheese if desired) and undiluted chicken soup (can season with black pepper if desired).\", \"Heat just until the cheese melts (do not boil).\", \"For the filling --- (make certain that the cream cheese and butter are very soft) in a bowl, mix the soft cream cheese with butter until very smooth, then add in garlic powder (if using).\", \"Add in the chopped chicken, onion and cheddar cheese; mix well until combined.\", \\n\"Add in 2 tablespoons whipping cream or mayonnaise; mix to combine (add in a little more if the mixture seems too dry).\", \"Season with seasoned salt or white and black pepper to taste.\", \"Unroll the crescent rolls.\", \"Place 1 heaping tablespoon chicken mixture (or a little more) on top of each crescent triangle, then roll up starting at the thicker end.\", \"Drizzle a small amount of soup mixture on the bottom of the dish.\", \"Then place the crescent rolls seam-side down on top of the creamed mixture in the casserole.\", \\n\"Drizzle the remaining sauce on top (you don\\'t have to use the full amount of cream sauce, just use as much as desired) and sprinkle with 1 cup (or more) grated cheese, or amount desired.\", \"Bake for about 30 minutes.\")',\n",
       " 'The Sweetest Blueberry Muffins~(\"butter\", \"margarine\", \"granulated sugar\", \"eggs\", \"vanilla\", \"baking powder\", \"salt\", \"all-purpose flour\", \"milk\", \"fresh blueberries\", \"frozen blueberries\", \"lemon zest\", \"granulated sugar\", \"ground nutmeg\")~Heat oven to 375°.\", \"Grease 18 regular-size muffin cups (or 12 large size muffins).\", \"In bowl, mix butter until creamy.  Add sugar and beat until pale and fluffy.\", \"Add eggs one at a time, beating after each.\", \"Beat in vanilla, baking powder, lemon zest, and salt.\", \"With spoon, fold in half of flour then half of milk into batter; repeat.\", \"Fold in blueberries.\", \"Spoon into muffin cups and sprinkle topping onto each muffin.\", \"Bake 15 to 20 minutes, until golden brown and springy to touch.\"\\n)',\n",
       " 'Why-I-Joined-Zaar Carrot Cake~(\"all-purpose flour\", \"baking soda\", \"baking powder\", \"salt\", \"ground cinnamon\", \"white sugar\", \"eggs\", \"vanilla extract\", \"carrots\", \"flaked coconut\", \"walnuts\", \"crushed pineapple\", \"cream cheese\", \"butter\", \"icing sugar\")~Preheat oven to 350 degrees F (175 degrees C). Grease and flour a 9x13 inch pan.\", \"Mix flour, baking soda, baking powder, salt and cinnamon; make a well in the center and add sugar, oil, eggs and vanilla. Mix with wooden spoon until smooth.\", \"Stir in carrots, coconut, walnuts and pineapple. Pour into 9x13 inch pan and bake for about 45 minutes. Don\\'t panic, the centre will sink a little.\", \"Allow to cool; when cool, ice the cake. You can certainly use your favourite cream cheese frosting to ice this cake, but the one I\\'ve included is highly recommended (I usually leave the cake in the 13x9 pan and just ice the top).\", \\n\"To make the frosting: Cream the butter and cream cheese until smooth; add the icing sugar and beat until creamy.\")',\n",
       " 'Denny\\'s-Style French Toast~(\"eggs\", \"flour\", \"sugar\", \"vanilla\", \"salt\", \"cinnamon\", \"butter\", \"powdered sugar\", \"butter\")~Mix together the eggs, milk, flour, sugar, vanilla, salt& cinnamon.\", \"Heat a large skillet, or griddle.\", \"When the skillet is hot, add 1 tablespoon butter.\", \"If the butter smokes, your pan is too hot; turn down the heat.\", \"Dip each slice of bread into the batter for 30 seconds on each side.\", \"Let some of the batter drip off, then put in skillet.\", \"Cook each slice 1 1/2-2 minutes per side until each side is golden brown.\", \"Add more butter, if necessary, to cook all of the slices.\", \"To serve, put on plate, dust with powdered sugar. Serve with butter & hot syrup.\"\\n)',\n",
       " 'Roasted Asparagus~(\"asparagus\", \"olive oil\", \"kosher salt\")~Preheat oven to 425°F.\", \"Cut off the woody bottom part of the asparagus spears and discard.\", \"With a vegetable peeler, peel off the skin on the bottom 2-3 inches of the spears (this keeps the asparagus from being all \\\\\"stringy\\\\\" and if you eat asparagus you know what I mean by that).\", \"Place asparagus on foil-lined baking sheet and drizzle with olive oil.\", \"Sprinkle with salt.\", \"With your hands, roll the asparagus around until they are evenly coated with oil and salt.\", \"Roast for 10-15 minutes, depending on the thickness of your stalks and how tender you like them.\", \\n\"They should be tender when pierced with the tip of a knife.\", \"The tips of the spears will get very brown but watch them to prevent burning.\", \"They are great plain, but sometimes I serve them with a light vinaigrette if we need something acidic to balance out our meal.\")',\n",
       " 'Buffalo Chicken Dip~(\"cream cheese\", \"chicken\")~Beat cream cheese, ranch dressing, and red hot sauce.\", \"Fold in shredded chicken.\", \"Spread mixture into pie plate sprayed with Pam.\", \"Bake at 350 degrees Fahrenheit for 15 minutes.\", \"Add cheddar cheese to top.\", \"Bake an additional 10 to 15 minutes.\", \"Serve hot with Frito scoops.\")',\n",
       " 'Kittencal\\'s Buttery Cut-Out Sugar Cookies W/ Icing That Hardens~(\"butter\", \"sugar\", \"eggs\", \"vanilla\", \"all-purpose flour\", \"baking soda\", \"baking powder\", \"salt\", \"confectioners\\' sugar\", \"milk\", \"light corn syrup\")~For cookies; in a large bowl combine butter with sugar, eggs, vanilla and almond extract; beat using an electric mixer on high speed until light and fluffy.\", \"In another bowl combine the flour with baking powder, baking soda and salt; gradually stir into the butter mixture until well blended.\", \"Cover bowl with plastic wrap and chill for 2 hours.\", \"Set oven to 400°F.\", \"Line cookie sheets with parchment paper (do not grease cookie sheets use parchment paper only).\", \"On a very lightly floured surface roll out the dough into about 1/4-inch thickness.\", \\n\"Cut into desired shapes using cookie cutters.\", \"Place cookies 2-inches apart on cookie sheet.\", \"Bake 4-6 minutes.\", \"Remove cookies to wire racks to cool completely before icing.\", \"For the frosting; in a small bowl mix the confectioners sugar with milk (start with 1-2 tablespoons, you will likely need more milk for the perfect spreading consistency).\", \"Beat in corn syrup and almond extract until the icing is smooth and glossy (if the icing is too thick add in a small amount more of corn syrup).\", \\n\"Divide into as many separate bowls as you wish for different colours.\", \"Add in food colouring until desired intensity is achieved.\", \"Paint the icing over the cookies using a brush, or dip edges of cookies into icing.\", \"Allow to set on waxed paper.\")',\n",
       " 'Kittencal\\'s Easy and Delicious Ranch-Parmesan Chicken~(\"boneless skinless chicken breasts\", \"parmesan cheese\", \"seasoning salt\", \"ground black pepper\", \"garlic powder\", \"butter\")~Set oven to 400° degrees (set oven rack to lowest position).\", \"In a shallow bowl mix together the dry breadcrumbs with Parmesan cheese, seasoned salt, black pepper and garlic powder.\", \"Dip the chicken into the ranch dressing to coat both sides (allow any excess to drip off).\", \"Coat in the breadcrumb mixture.\", \"Place in a single layer onto a greased baking sheet or line with non-stick foil (do NOT bake in a smaller baking dish or the bottom of the chicken will be soggy).\", \"Lightly drizzle the melted butter over each breast (for low-fat option omit the butter or use a diet alternative).\", \\n\"If desired you can sprinkle black pepper over the chicken pieces       .\", \"Bake uncovered for about 30-35 minutes or until the chicken is cooked).\")',\n",
       " 'Cinnamon Cookies~(\"sugar\", \"butter\", \"egg\", \"vanilla\", \"flour\", \"cinnamon\", \"baking powder\", \"salt\")~In a mixer bowl, cream together sugar and butter; beat in egg and vanilla.\", \"Combine flour, cinnamon, baking powder and salt.\", \"Add to butter mixture.\", \"Blend well.\", \"Cover and refrigerate 2 hours or till firm enough to roll into balls.\", \"Shape dough into small balls about 3/4-inch in diameter.\", \"Roll in cinnamon sugar to coat.\", \"Set cookies 1-inch apart on lightly greased cookie sheets.\", \"Bake at 350° for 10 minutes or till the edges are lightly browned.\", \"Cool slightly on pans, then remove to racks to cool completely.\"\\n)',\n",
       " 'Perfect Pork Tenderloin~haracter(0)~NOTE:\\xa0 The success of this cooking method will depend upon how accurate the temperature of your oven is and how well your oven retains heat.\\xa0 Adjust cooking time +/- according to your individual oven.\", \"NOTICE: If you have a very old oven that is not well insulated, this recipe may not work for you, as heat retention/residual heat is important to the success of this recipe.\", \"Determine the EXACT weight of roast from the meat wrapper.  Weight will determine how long to cook the roast.\", \"Preheat oven to 500 degrees.  Remove tenderloin from refrigerator.\\xa0 Season meat as desired.\\xa0 Place seasoned meat in an uncovered roasting pan on a shelf in the bottom 1/3 of your oven.\", \\n\"Bake EXACTLY 5 1/2 minutes PER POUND.  Adjust +/- according to your oven\\'s accuracy and heat retention. NOTE:\", \"IF YOU HAVE AN OVEN PROBE OR THERMOMETER THAT HAS A WIRE THAT GOES THROUGH THE SIDE OF THE OVEN DOOR, BY ALL MEANS USE IT AND SET THE TEMPERATURE ALARM FOR 140 DEGREES.  REMOVE MEAT FROM OVEN WHEN ALARM ALERT GOES OFF (probably before an hour has expired).\", \"Turn oven OFF and DO NOT open oven door for 45 to 1 hour, OR sooner IF you are using a probe thermometer and it alerts that internal meat temp is at 140 degrees.  Remove pork from oven, lightly cover with foil, and let rest 5-10 minutes to redistribute internal juices.  Roast should be done, very slightly pink in the center, and very moist.\", \\n\"After resting 10 minutes, the roast should reach a safe 145-150 degrees.\", \"NOTE:******* For anyone questioning this method of cooking, it really does reach the proper internal temperature on a thermometer.  According to Sara Moulton on FoodTV, trichinosos is killed at 138 degrees, and 145 is a safe temperature for pork, although the USDA recommends 160 degrees (meat will be much drier).  If the center of the meat is not a little pink, it is overcooked!\", \"VARIATION:\\xa0 To make Roasted Veggies along with the tenderloin, peel carrots and potatoes, and cut into about 1-inch cubes.\\xa0\\xa0 Season as desired and drizzle with a little oil.\\xa0 Add vegetables to pan around (but NOT touching) pork tenderloin.\\xa0 Cook tenderloin as instructed above.\\xa0 The roasted potatoes and carrots should be done when the roast is done.\\xa0 You may need to adjust the size of the potatoes and carrots depending upon the weight of your tenderloin and how long you cook it.\"\\n)',\n",
       " 'Award Winning Chili~(\"ground beef\", \"ground turkey\", \"onions\", \"green pepper\", \"Mexican-style tomatoes\", \"tomato sauce\", \"cumin\", \"chili powder\", \"salt\", \"cayenne pepper\", \"paprika\", \"kidney beans\", \"black beans\", \"water\", \"sour cream\", \"cheddar cheese\", \"green onion\")~In a medium Dutch oven over medium-high heat add the olive oil. Add the ground meat and cook, breaking up into pieces, until browned. Add the onions, bell pepper and jalapeno and cook until softened. Drain excess grease.\", \"Add the tomatoes, tomato sauce, cumin, chili powder, salt, cayenne, paprika and 1 cup water. Mix to combine.\", \"Add the kidney beans and black beans, mix and bring to a simmer. Cover and cook for 1-2 hours.\", \"Serve with desired toppings.\")',\n",
       " 'Pizza Dough for Thin Crust Pizza~(\"all-purpose flour\", \"active dry yeast\", \"salt\", \"warm water\", \"olive oil\", \"cornmeal\")~Mix a little sugar into the warm water.\", \"Sprinkle yeast on top.\", \"Wait for 10 minutes or until it gets all foamy.\", \"Pour into a large bowl.\", \"Add flour, salt, olive oil.\", \"Combine.\", \"Knead for 6-8 minutes until you have a moderately stiff dough that is smooth and elastic (add a bit more flour if you need to).\", \"Cover and let rest for 20-30 minutes.\", \"Lightly grease two 12-inch pizza pans.\", \"Sprinkle with a little bit of cornmeal.\", \"Divide dough in half.\", \"Place each half on a pizza pan and pat it with your fingers until it stretches over the whole pan.\", \\n\"Try to make it thicker around the edge.\", \"If desired, pre-bake at 425 F for 10 minutes (I don\\'t always do this).\", \"Then spread with pizza sauce and use the toppings of your choice.\", \"Bake at 425 F for 10-20 minutes longer or until bubbly and hot.\", \"Makes 2 12-inch pizzas.\", \"If you don\\'t want to use all the dough, you can freeze it.\", \"Take a portion of dough, form into a ball, rub olive oil over it and place it in a freezer bag (the oil makes it easier to take out of the bag).\", \"When you want to make a pizza, take dough out of freezer and allow to thaw before using.\"\\n)',\n",
       " 'Country White Bread or Dinner Rolls (Bread Machine)~(\"water\", \"water\", \"egg\", \"bread flour\", \"sugar\", \"salt\", \"instant yeast\", \"butter\", \"shortening\")~In bread machine pan, place all ingredients from flour through yeast in order as recommended by the manufacturer.\", \"Select the basic bread setting.\", \"Check dough after 5 minutes of mixing, if needed add 1-2T of water or flour.\", \"Bake as normal.\", \"For dinner rolls.\", \"Mix in bread machine but use only the dough option.\", \"Lightly grease a 9 x 13 baking pan (I always use a metal pan).\", \"When dough is finished shape into 15 uniformly sized balls. I always grease my hands with shortening to smooth the dough out and it helps keep the dough from drying out.\", \\n\"Cover and let the rolls rise in a warm, draft free place until risen to the desired size.\", \"I let them about double in size.\", \"Bake in a 350° oven about 12-15 minutes until golden brown.\", \"After removing from the oven, brush the tops of the rolls with melted butter.\", \"Take out of pan and let completely cool before storing.\")',\n",
       " 'Chicken Tikka Masala~(\"boneless skinless chicken\", \"plain yogurt\", \"lemon juice\", \"ground cumin\", \"black pepper\", \"cinnamon\", \"salt\", \"unsalted butter\", \"garlic cloves\", \"jalapeno chile\", \"ground coriander\", \"ground cumin\", \"paprika\", \"garam masala\", \"salt\", \"tomato sauce\", \"fresh cilantro\")~Soak bamboo skewers in water.\", \"Thread chicken on skewers, and marinate (in the refrigerator) for an hour or so.\", \"Discard marinade.\", \"For sauce, melt butter on medium heat.\", \"Add garlic & jalapeno; cook 1 minute.\", \"Stir in coriander, cumin, paprika, garam masala & salt.\", \"Stir in tomato sauce.\", \"Simmer 15 minutes.\", \"Stir in cream; simmer to thicken- about 5 minutes.\", \"Grill or broil chicken, turning occasionally, to cook through- about 8 minutes.\", \"Remove chicken from skewers; add to sauce.\", \\n\"Simmer 5 minutes.\", \"Garnish with cilantro Serve with basmati rice, naan or pita bread.\", \"Note: You can make your own garam masala. McCormick also makes garam masala; it\\'s available in super markets.\")',\n",
       " 'The Only Chocolate Cake Recipe You\\'ll Ever Need! (Devil\\'s Food)~(\"all-purpose flour\", \"salt\", \"baking powder\", \"baking soda\", \"sugar\", \"milk\", \"eggs\", \"vanilla\", \"milk\", \"all-purpose flour\", \"butter\", \"shortening\", \"sugar\", \"vanilla\")~Preheat oven to 325°F.\", \"In a large mixing bowl, sift together dry ingredients. Add oil, coffee and milk and mix at medium speed for 2 minutes. Add eggs and vanilla and beat 2 more minutes. Expect batter to be thin.\", \"Pour into a 9\\\\\" x 13\\\\\" greased and floured pan or 2- 9\\\\\" round pans. Bake 9 x 13 pan for about 45 minutes or 9\\\\\" pans for about 30 minutes. Cool in pans for about 15 minutes and then cool completely on racks.\", \"While cake is cooling make the icing: Combine the milk and flour in a saucepan and cook over low heat until thick, whisking constantly. Cover and refrigerate until chilled.\", \\n\"In a medium bowl, beat butter, shortening, sugar and vanilla until creamy. Add chilled milk and flour mixture and beat for 10 minutes. Frost cooled cake and enjoy! The frosting sounds intimidating, but it is worth it! By the way, for some reason, we prefer this cake chilled, right out of the refrigerator. The rich chocolate and cool frosting just seem to taste best this way.\")',\n",
       " 'Soft Peanut Butter Cookies~(\"creamy peanut butter\", \"brown sugar\", \"white sugar\", \"butter\", \"margarine\", \"eggs\", \"baking soda\", \"baking powder\", \"vanilla extract\", \"flour\")~Cream butter, peanut butter and both sugars together.\", \"Add eggs, one at a time, beating well.\", \"Add baking soda, powder and vanilla.\", \"Stir in flour.\", \"Roll into balls, roll in sugar. Flatten cookies, using a fork, in a criss-cross pattern.\", \"Bake on ungreased cookie sheet at 350 degrees for 6-7 minutes or adjust to suit your oven and size of cookies!\")',\n",
       " 'No-Bake Chocolate Oatmeal Cookies~(\"butter\", \"white sugar\", \"brown sugar\", \"milk\", \"kosher salt\", \"creamy peanut butter\", \"vanilla\", \"quick-cooking oats\")~Add the first six ingredients into a 4-quart sauce pan.\", \"Bring to a rolling boil and hold for 1 minute.\", \"Remove from heat.\", \"Add peanut butter into the hot mixture and stir until melted.\", \"Add in vanilla. (almond extract is good also, but I only use 1/2 teaspoon almond extract with 1 1/2 teaspoon vanilla extract).\", \"Mix in the dry oats until they are completely coated.\", \"Drop cookies by tablespoonfuls onto wax paper.\", \"Let cool until set.\", \"*Please remember that even if you do follow the recipe exactly, it doesn\\'t always turn out just right.  I\\'ve had these not set up for me or be hard and dry.  But most of the time, the recipe is just right. I adjusted the sugar in the recipe by substituting 1/2 cup of white sugar for 1/2 cup brown sugar, this makes them more moist. I have also found that it makes a difference if you use quick cooking oats or old fashioned.  In my experience it takes more old fashioned oats than quick cooking and I like the texture of the quick cooking better. When you make it a few hundred times like I have you learn a couple of things:) Also, Chunky peanut butter tends to make them more dry and crumbly.\"\\n)',\n",
       " 'Roasted Green Beans~(\"green beans\", \"olive oil\", \"kosher salt\", \"fresh ground pepper\")~Preheat oven to 400°F.\", \"Wash, dry well, and trim green beans.\", \"Put green beans on a jelly roll pan.\", \"Drizzle with olive oil.\", \"Sprinkle with salt and pepper to taste (I like them salty so I use about 1 1/2 teaspoons of salt and about 8-10 grinds of the pepper mill). *Mrs. Dash may be substituted for salt and pepper as desired.\", \"Use your hands to be sure all the beans are evenly coated and spread them out into 1 layer.\", \"Roast for 20-25 minutes, turning after 15 minutes, until beans are fairly brown in spots and somewhat shriveled.\", \\n\"Serve hot or at room temperature.\")',\n",
       " 'Ultimate Pizza Sauce~(\"olive oil\", \"butter\", \"onion\", \"celery\", \"garlic clove\", \"tomato sauce\", \"tomato paste\", \"parmesan cheese\", \"dried basil\", \"dried oregano\", \"salt\", \"sugar\", \"black pepper\", \"bay leaf\", \"fennel seed\")~In a large skillet, melt butter with the oil. Add the onion, celery and garlic and saute until soft and transparent.\", \"Add tomato sauce and tomato paste and stir until smooth.\", \"Add remaining ingredients and bring to slow simmer.\", \"Simmer for 30-60 minutes (or not at all depending on your taste and time frame).\", \"Remove the bay leaf and spread the sauce on your prepared pizza dough.\")',\n",
       " 'The Best Belgian Waffles~(\"flour\", \"baking powder\", \"salt\", \"sugar\", \"eggs\", \"milk\", \"vanilla\")~Oil the waffle maker.\", \"Sift the dry ingredients together in a large bowl.\", \"In separate bowl, separate egg whites and beat until stiff peaks form.\", \"In a separate bowl, mix together the egg yolks, milk, oil , and vanilla, stir slightly.\", \"Add to dry ingredients and mix well.\", \"Fold in egg whites.\", \"Cook in waffle iron on medium-high heat for around 5-10 minutes.\")',\n",
       " 'Chocolate! Chocolate! Chocolate! Bundt Cake With Chocolate Glaze~(\"instant chocolate pudding mix\", \"water\", \"eggs\", \"vanilla extract\", \"butter\", \"powdered sugar\", \"hot water\")~Cake: Preheat oven to 350°.\", \"Grease and flour bundt pan, set aside.\", \"In large mixing bowl, combine cake mix, pudding mix and chocolate chips.\", \"In another bowl, combine water, eggs, and vanilla mixing well.\", \"Add egg mixture to dry mixture and mix with spoon until just blended.\", \"Pour into prepared pan.\", \"Bake for 50 to 55 minutes or until cake tests done when wooden pick in center comes out clean.\", \"Cool 15 to 20 minutes before removing cake from pan.\", \"When completely cool, drizzle cake with Chocolate Glaze.\", \\n\"Chocolate Glaze: Combine all ingredients in bowl.\", \"Mix with spoon until smooth.\")',\n",
       " 'Zucchini Bread~(\"sugar\", \"eggs\", \"flour\", \"vanilla\", \"zucchini\", \"salt\", \"baking soda\", \"baking powder\", \"cinnamon\", \"nutmeg\", \"ginger\", \"clove\")~Preheat oven to 350 degrees.\", \"Combine all ingredients.\", \"Pour into two greased loaf pans.\", \"Bake for one hour.\")',\n",
       " 'Roasted Cauliflower &amp; 16 Roasted Cloves of Garlic~(\"cauliflower\", \"garlic cloves\", \"fresh rosemary\", \"salt\", \"black pepper\", \"olive oil\", \"olive oil\")~Mix oil, rosemary, salt, pepper and garlic together.\", \"Toss in cauliflower and place in a large casserole dish in one layer.\", \"Roast in a preheated oven at 450 degrees for 20 minutes; give a toss and bake for 10 more minutes.\")',\n",
       " 'Perfectly Sweet Cornbread~(\"flour\", \"sugar\", \"cornmeal\", \"baking powder\", \"salt\", \"milk\", \"eggs\", \"butter\", \"margarine\")~Preheat oven to 350°F  Grease 8-inch square baking pan.\", \"Combine flour, sugar, corn meal, baking powder and salt in medium bowl.  Combine milk, eggs, oil and butter in small bowl and mix well.  Add to flour mixture and stir just until blended.\", \"Pour into baking pan.  Bake for 35 minutes or until wooden pick comes out clean.\", \"For corn muffins, spoon batter into muffin cups 2/3 full.  Bake for 18-20 minutes or until wooden pick comes out clean.  Cool for 5 minutes before removing from pans.\"\\n)',\n",
       " 'Steak (Or Chicken) Fajitas~(\"olive oil\", \"lime juice\", \"garlic clove\", \"chili powder\", \"cumin\", \"black pepper\", \"salt\", \"flour tortillas\", \"onion\", \"sweet peppers\", \"salsa\", \"sour cream\", \"cheese\", \"chopped tomato\")~Slice steak into thin strips.\", \"In bowl, mix together 1 tablespoons olive oil, lime juice, garlic, chili powder, cumin, hot pepper flakes, black pepper & salt.\", \"Add beef strips and stir to coat, set aside.\", \"Wrap tortillas in foil and place in 350° oven for 5-10 minutes or until heated through.\", \"Cut onions in half lengthwise and slice into strips, cut your peppers into strips.\", \"In large non stick skillet over medium high heat, heat remaining tablespoons of olive oil.\", \"Add onions & peppers stirring for 3-4 minutes, until softened; transfer to a bowl and set aside.\", \\n\"Add beef to skillet, cook, stirring for 3-4 minutes or until they lose their red color.\", \"Return onions and peppers to skillet; stir for about one minute.\", \"To serve, spoon a portion of the beef mixture down the centre of each tortilla, top with your desired toppings , fold bottom of tortilla up over filling, fold the sides in, overlapping.\")',\n",
       " 'Chewy Chocolate Cookies~(\"butter\", \"margarine\", \"sugar\", \"eggs\", \"vanilla extract\", \"all-purpose flour\", \"baking soda\", \"salt\")~Heat oven to 350°.\", \"In large mixer bowl; cream butter and sugar until light and fluffy.\", \"Add eggs and vanilla; beat well.\", \"Combine flour, cocoa, baking soda and salt; gradually blend into creamed mixture. Stir in peanut butter or chocolate chips.\", \"Drop by teaspoonfuls onto ungreased cookie sheet. Bake 8-9 minutes. (Do not overbake; cookies will be soft. They will puff while baking and flatten while cooling.).\", \"Cool slightly; remove from cookie sheet onto wire rack. Cool completely.\")',\n",
       " 'Kittencal\\'s Famous Greek Salad~(\"olive oil\", \"dried oregano\", \"garlic\", \"dried basil\", \"red wine vinegar\", \"salt\", \"sugar\", \"fresh ground black pepper\", \"romaine lettuce\", \"plum tomatoes\", \"English cucumber\", \"red onion\", \"green bell pepper\", \"feta cheese\", \"kalamata olive\")~For the dressing; in a processor or use a wire whisk process/whisk the olive oil with lemon juice, 2 teaspoons dried oregano, garlic, dried, basil, red wine vinegar, salt and sugar until smooth (add in more oregano and lemon juice if needed).\", \"Season with black pepper.\", \"Chill in fridge for a couple of hours before using to blend flavors.\", \"Place the salad ingredients in a large bowl.\", \"Pour dressing over; toss to combine.\", \"If desired allow the salad to sit at room temperature for 20 minutes before serving, or you can refrigerate for 1 hour (tossing a few time during sitting time).\"\\n)',\n",
       " 'Ww 0 Point Weight Watchers Cabbage Soup~(\"vegetable broth\", \"nonfat chicken broth\", \"garlic cloves\", \"tomato paste\", \"cabbage\", \"yellow onion\", \"carrot\", \"green beans\", \"zucchini\", \"basil\", \"oregano\")~Spray pot with non stick cooking spray saute onions carrots and garlic for 5 minutes.\", \"Add broth, Tomato paste, cabbage, green beans, basil, oregano and Salt & Pepper to taste.\", \"Simmer for a about 5-10 minutes until all vegetables are tender then add the zucchini and simmer for another 5 or so minutes.\", \"I have tried different variations. Leaving out green beans. Adding chopped green onions in addition to the yellow onion.\", \"All very good. You can customize it a bit.\")',\n",
       " 'Panda Express Orange Chicken~(\"boneless skinless chicken\", \"egg\", \"salt\", \"white pepper\", \"cornstarch\", \"flour\", \"soy sauce\", \"brown sugar\", \"orange, zest of\", \"gingerroot\", \"garlic\", \"green onion\", \"rice wine\", \"water\", \"cornstarch\")~Place chicken pieces in a large bowl, set aside.\", \"In a medium bowl, stir egg, salt, pepper and 1 tablespoon oil and mix well, set aside.\", \"In a medium bowl, stir together 1/2 cup of the cornstarch and the flour.\", \"Heat oil for deep-frying in wok or deep-fryer to 375 degrees.\", \"Dip chicken pieces into egg mixture, then into the flour mixture, shaking off any excess.\", \"Add chicken to wok in small batches and fry for 3 to 4 minutes or until golden brown.\", \"(Do not overcook chicken).\", \"Remove chicken from oil with slotted spoon and drain on paper towels; set aside.\", \\n\"FOR THE SAUCE:\", \"In a small bowl, combine the soy sauce, orange juice, brown sugar and orange zest. Set aside.\", \"Clean wok and heat 15 seconds over high heat.\", \"Add 1 tablespoon oil, the gingerroot, garlic, crushed red chili pepper flakes and green onions and stir-fry for just a few seconds until fragrant.\", \"Now, add the rice wine and the soy sauce mixture you set aside above.\", \"Add cooked chicken, stirring until well mixed.\", \"In a small bowl, stir together the water and cornstarch, then add it to the wok and stir until sauce has thickened. Add sesame oil if desired.\", \\n\"Serve over jasmine rice.\")',\n",
       " 'Bev\\'s Spaghetti Sauce~(\"ground beef\", \"olive oil\", \"onion\", \"garlic\", \"bay leaves\", \"oregano\", \"dried basil\", \"salt\", \"ground pepper\", \"tomato paste\", \"tomato sauce\", \"diced tomatoes\", \"fresh mushrooms\", \"parmesan cheese\")~Brown the ground beef, onion and garlic in olive oil with bay leaves, oregano, basil, Italian Seasoning, salt and pepper.\", \"Add tomato paste, tomato sauce and diced tomatoes.\", \"Stir well and bring to a simmer over medium heat.\", \"Cover and simmer for 1 1/2 hours.\", \"Use sauce to top your cooked spaghetti.\", \"Top with sauteed mushroom.\", \"Pass the Parmesan.\")',\n",
       " 'Turkey Meatloaf~(\"butter\", \"onion\", \"garlic cloves\", \"ground turkey\", \"egg\", \"catsup\", \"Worcestershire sauce\", \"salt\", \"black pepper\")~Melt butter in a skillet.\", \"Cook onion and garlic in melted butter for 5 minutes, stirring occasionally.\", \"Place mixture in a large bowl to cool for 5 minutes.\", \"Combine turkey, bread crumbs, egg, 1/4 cup of the katchup, Worcestershire sauce, salt, and pepper with onion mixture.\", \"Press meatloaf into an 8x4-inch loaf pan.\", \"Spread remaining catsup on top.\", \"Bake in a 350 degree oven for 50-55 minutes.\", \"(Internal temperature should reach 165 degrees.) Remove from oven and let stand 5 minutes before serving.\"\\n)',\n",
       " 'Dutch Apple Pie~(\"cooking apples\", \"lemon juice\", \"granulated sugar\", \"brown sugar\", \"flour\", \"ground cinnamon\", \"nutmeg\", \"flour\", \"granulated sugar\", \"brown sugar\", \"butter\", \"margarine\")~Preheat oven to 375°F.\", \"Fit pie crust into pie plate.\", \"In a large bowl, mix sliced apples, lemon juice, both sugars,flour, cinnamon and nutmeg.\", \"Pile into crust.\", \"Prepare topping:\", \"In a medium bowl, with a pastry blender or a fork, mix flour, both sugars, and butter until coarsely crumbled.\", \"Sprinkle evenly over apples.\", \"Bake at 375°F for 50 minutes.\")',\n",
       " 'Oreo Balls~(\"cream cheese\", \"white chocolate bark\")~Using a blender or hand held mixer, mix Oreos and cream cheese together.\", \"Roll into walnut size balls.\", \"Chill for an hour.\", \"Melt approximately 3/4 package of white almond bark.\", \"Stick a toothpick in an Oreo ball and dip it in the melted white almond bark.\", \"Allow to harden on wax paper.\", \"Takes about 15 minute.\", \"While waiting, melt about 1/4 package of chocolate almond bark.\", \"When Oreo balls are no longer sticky to the touch, decorate with drizzles of chocolate and white almond bark.\", \\n\"I just use a sandwich bag with a tiny hole cut in one corner to drizzle the almond bark.\")',\n",
       " 'Edna\\'s Apple Crumble (Aka. Apple Crisp)~(\"granny smith apples\", \"brown sugar\", \"flour\", \"rolled oats\", \"cinnamon\", \"nutmeg\", \"butter\")~Put apples in an 8 or 9 inch square baking dish.\", \"Combine the rest of the ingredients in a separate bowl and mix.\", \"Spread crumble mixture over apples and bake for 35 minutes in a 375ºF degree oven.\", \"For an added treat top off with a little English custard.\")',\n",
       " 'White Almond Sour Cream Wedding Cake~(\"all-purpose flour\", \"granulated sugar\", \"salt\", \"water\", \"real vanilla\", \"sour cream\")~Place all dry ingredients in a large mixing bowl and stir together with a wire whisk.\", \"Add the remaining ingredients and beat on medium speed for 2 minutes.\", \"Pour into greased and floured cake pans, filling each pan a little over half full.\", \"Lightly tap cake pans on counter to bring air bubbles to top.\", \"Bake in preheated 325° F oven until cake tests done.\", \"Baking time varies according to the size and depth of pans being used.\", \"I used Wilton\\'s Bake Even Strips on my cake pans to ensure a level-topped cake which required absolutely no trimming-- I highly recommend these, or good quality professional baking pans.\", \\n\"In 2\\\\\" deep pans, this recipe makes:\", \"One 14\\\\\" round and one 6\\\\\" round.\", \"or One 16\\\\\" round.\", \"or One 12\\\\\" round and one 10\\\\\" round.\", \"or One 12 X 18\\\\\" sheet cake.\", \"or One 12\\\\\" round and one 8\\\\\" round and one 6\\\\\" round.\", \"or Two 9\\\\\" squares.\", \"or 5 dozen cupcakes.\", \"Half the recipe makes:\", \"Two 7\\\\\" rounds.\", \"or Two 6\\\\\" rounds and 6 cupcakes.\", \"For chocolate cake: use chocolate mixes and substitute 6 whole eggs for the egg whites.\", \"For liqueur flavors: substitute alcohol (such as champagne or Kahlua) for about 1 cup of the water in the recipe.\", \\n\"For berry flavors: use frozen berries, thaw reserving the juice. Substitute the berry juice for part of the water in the recipe, and stir the berries in at the end.\", \"For lemon cake:  substitute lemon juice for about 1 cup of the water in the recipe, use 6 whole eggs instead of the whites, stir in 1 Tblsp lemon zest, and use 1 tsp of a good lemon extract in place of the almond.\", \"For white chocolate:  melt 8oz white baking chocolate & cool slightly.  use 6 whole eggs in the recipe instead of the whites, temper the chocolate by stirring in a small amount of the batter, then add the white chocolate to the entire batter and stir well.  Doesn\\'t bake up quite as high as the original, so add a pinch more batter to the pans.\"\\n)',\n",
       " 'Pumpkin Spice Bread~(\"canned pumpkin\", \"sugar\", \"water\", \"eggs\", \"all-purpose flour\", \"baking soda\", \"cinnamon\", \"salt\", \"baking powder\", \"nutmeg\", \"ground cloves\")~Heat oven to 350.\", \"in a large mixing bowl, combine pumpkin, sugar, water, vegetable oil and eggs.\", \"Beat until well mixed.\", \"Measure the flour, baking soda, cinnamon, salt, baking powder, nutmeg and cloves into a separate bowl and stir until combined.\", \"Slowly add the dry ingredients to the pumpkin mixture, beating until smooth.\", \"Grease two 9 x 5 inch loaf pans and dust with flour.\", \"Evenly divide the batter between the two pans.\", \"Bake for 60-70 minutes or until a toothpick inserted in center comes out clean.\", \\n\"Cool for 10-15 minutes, then remove from pans by inverting onto a rack and tapping the bottoms.\", \"Slice and serve plain, buttered, or with cream cheese.\", \"Note: Cream cheese is the ONLY thing to put on this bread because--it is so so so yummy!\")',\n",
       " 'Easy and Tasty Barbecue Chicken Sandwiches in the Crock Pot~(\"boneless skinless chicken breast\", \"barbecue sauce\", \"sweet onion\")~Remove all visible fat from the chicken and toss it in the crock pot.\", \"Place the onion slices on top of the chicken.\", \"Pour the barbecue sauce over top.\", \"You may not need the entire jar, just enough to cover the chicken.\", \"Cook it on LOW for 8 hours or until the chicken is nice and tender.\", \"Shred the chicken with a fork and knife; scoop the mixture onto the bottom buns and top it with the top buns.\", \"Or, if you\\'re like my dad, you might prefer leaving the breasts whole and eating it that way.\", \\n\"Voila!\", \"An easy weeknight meal that doesn\\'t heat up your kitchen in the summertime!\", \"I love this with potato chips and a carrot and raisin salad.\")',\n",
       " 'Awesome Baked Ham~(\"brown sugar\", \"yellow mustard\")~In a medium size mixing bowl, mix yellow mustard and brown sugar until you have a thick\\\\\"paste\\\\\".\", \"Take all wrappers off of ham and trim away excess fat.\", \"Line baking pan (I spray with Pam in case some of the brown sugar mixture escapes, clean up is easier) with Aluminum foil.\", \"Place ham on foil and spread brown sugar/mustard paste on top.\", \"Fold and seal foil.\", \"Do not open again until ham is done.\", \"Bake at 350° for 4 hours.\", \"Let set for about 1 hr then carve.\", \"One of the best tasting hams you will ever have!\"\\n)',\n",
       " 'Szechuan Noodles With Spicy Beef Sauce~(\"ground beef\", \"onions\", \"garlic\", \"fresh ginger\", \"dry crushed red pepper\", \"cornstarch\", \"beef broth\", \"hoisin sauce\", \"soy sauce\", \"green onion\")~Brown ground beef in a large skillet, stirring until it crumbles; drain and keep warm.\", \"Pour sesame oil in pan and heat till hot. Saute onion and next 4 ingredients  hot sesame oil until tender.\", \"Combine cornstarch and beef broth, whisking until smooth.\", \"Stir broth mixture, hoisin sauce, and soy sauce into onion mixture.\", \"Bring to a boil, stirring constantly; boil, stirring constantly, 1 minute.\", \"Stir in ground beef.\", \"Toss with hot cooked pasta, and sprinkle with sliced green onions.\", \\n\"Yield: 4 servings.\")',\n",
       " '4 Minute Spicy Garlic Shrimp~(\"shrimp\", \"olive oil\", \"garlic cloves\", \"red pepper flakes\", \"lemon, zest of\", \"lemon juice\", \"fresh parsley\")~Heat a large skillet over medium high heat.\", \"Add olive oil, garlic, red pepper flakes, and shrimp.\", \"Season with grill seasoning or salt & pepper.\", \"Cook shrimp 3 minutes or until just pink.\", \"Toss with lemon zest, juice, & chopped parsley.\", \"Remove shrimp to a serving platter, leaving the garlic cloves in the pan.\")',\n",
       " 'Ground Beef Stuffed Green Bell Peppers With Cheese~(\"green peppers\", \"beef\", \"onion\", \"tomatoes\", \"long grain rice\", \"water\", \"salt\", \"Worcestershire sauce\", \"cheddar cheese\")~Cut off the tops of green peppers; discard seeds and membranes.\", \"Chop enough of the tops to make 1/4 cup, set aside.\", \"Cook the whole green peppers, uncovered in boiling water for about 5 minutes; invert to drain well.\", \"Sprinkle insides of the peppers lightly with salt.\", \"In a skillet cook ground beef, onion and 1/4 cup chopped pepper till meat is browned and vegetables are tender.\", \"Drain off excess fat. Add drained tomatoes, salt, Worcestershire, and a dash of pepper.\", \"in a separate pot put water bring to boil add rice cook until rice is soft. if needed add more water.\", \\n\"add rice to beef mixture.\", \"Stir in cheese. Stuff peppers with meat mixture. Place in a 10x6x2 baking dish.\", \"Bake, covered in a 350 degree oven for      30    minutes. in the last 5 minutes add any remaining cheese to the top of the peppers.\")',\n",
       " 'Caramelized Baked Chicken Legs/Wings~(\"chicken legs\", \"olive oil\", \"soy sauce\", \"ketchup\", \"honey\", \"garlic cloves\")~Preheat oven to 350 degrees Fahrenheit or 180 degrees Celsius.\", \"Place chicken in a 9x13 inch baking dish. Mix together the oil, soy sauce, ketchup, honey, garlic, salt and pepper.\", \"Pour over the chicken.\", \"Bake in preheated oven for one hour, or until sauce is caramelized.\", \"Could also use wings or pork ribs.\")',\n",
       " 'Restaurant Teriyaki Sauce~(\"soy sauce\", \"water\", \"ground ginger\", \"garlic powder\", \"brown sugar\", \"honey\", \"cornstarch\", \"cold water\")~Mix all but cornstarch and 1/4c water in a sauce pan and begin heating.\", \"Mix cornstarch and cold water in a cup and dissolve.\", \"After sauce is simmering, add cornstarch and water mixture, whisking well until sauce thickens.\", \"Heat until sauce thickens to desired thickness.\", \"Add water to thin if you over-thick it :).\")',\n",
       " 'Steak Marinade~(\"olive oil\", \"garlic clove\", \"Worcestershire sauce\", \"white vinegar\", \"yellow mustard\", \"soy sauce\", \"pepper\")~Mix all ingredients together and place steaks into freezer bag with marinade, preferably overnight.\", \"The original recipe used balsamic vinegar.Seems I never had that on hand so  I just used white and listed that in the recipe, but balsamic is definitely better.\")',\n",
       " 'Uncle Bill\\'s Whipped Shortbread Cookies~(\"butter\", \"all-purpose flour\", \"icing sugar\", \"powdered sugar\", \"vanilla extract\", \"red maraschino cherry\", \"green maraschino cherry\")~Preheat oven to 350 degrees F.\", \"In a mixing bowl and using an electric mixer, combine butter, flour, icing sugar and vanilla extract; mix until mixture is a smooth consistency.\", \"Prepare cookie sheets with parchment paper.\", \"Spoon out dough onto parchment lined cookie sheets by teaspoonfuls or by tablespoons for larger cookies, spacing about 2 inches apart.\", \"Cut maraschino cherries into quarters and place one piece in the middle of each cookie, alternating with red and green cherries.\", \\n\"Bake in preheated 350 F oven for 13 to 15 minutes or until bottom of cookies are lightly browned, DO NOT OVERBAKE.\", \"Remove from oven and let cool on cookie sheet for about 5 minutes.\", \"Transfer onto wire racks to finish cooling.\", \"Store in a container with a lid and separate each layer with wax paper.\", \"NOTE:  If you wish to add some flavor to the cookies, add 1 teaspoon of pure vanilla extract or almond extract.\", \"Use sprinkles, half an almond or half a cashew or chocolate to the top of the cookies before baking.\", \\n\"A thumbprint in the cookie, filled with your choice of jam is very tasty.\", \"It has been suggested that the cookies be refrigerated for at least 1/2 hour before baking for a different texture.\")',\n",
       " 'Uncle Bill\\'s Microwave Potato Chips~potatoes\"~If potatoes are old, peel and slice thin, less than 1/16\\\\\" in thickness (paper thin), slicing across the potato.\", \"If the potatoes are new or good skins, DO NOT PEEL, just scrub well, then slice them less than 1/16\\\\\" in thickness (paper thin), slicing across the potato.\", \"Place potato slices in a bowl, sprinkle with some salt (if desired) cover with cold water and let sit for 10 minutes.\", \"Remove potato slices in batches onto paper toweling and pat dry.\", \"If you have a microwave bacon tray, rub the tray with a vegetable oil, then place the sliced potatoes flat on the tray in a single layer.\", \\n\"Sprinkle with your choice of herbs or spices or just leave them plain.\", \"Cover with a microwaveable, round heavy plastic cover.\", \"Microwave on HIGH (full power) for 5 to 5 1/2 minutes or until they curl slightly and are a very light brown in color.\", \"Cooking time could vary slightly, depending on the wattage of your microwave and the thickness of the slices.  The thinner the slices, the quicker they cook and the tastier they are.\", \"You do not have to turn the sliced potatoes over.\", \"If you do not have a bacon tray, use a microwave safe casserole dish.\", \\n\"Rub the inside of the dish with some olive oil for the first batch of potato chips.\", \"I do not know why, but I find that if you do not rub oil the first time, some chips will tend to stick to the dish.\", \"After the first batch is done, you do not have to rub the dish again.\", \"Continue to microwave the remainder of sliced potatoes as noted above.\", \"If using a bacon tray, after the first batch is cooked, you can reduce the microwaving time to 4 1/2 minutes and even less as you continue to microwave each batch.\", \\n\"NOTE:  You can also use PARCHMENT PAPER to microwave the potato slices.  Lightly spray or rub the parchment paper with some vegetable oil or a Pam spray. Place your potato slices on the parchment paper, then sprinkle them with whatever you like and then place another piece of parchment paper on top.  This will help microwave the  potatoes more evenly and they should turn out nice and crisp.  Microwaving time should be between 5 and 6 minutes.\", \"ADDITIONAL IDEAS, suggested by Deb K:\", \"Granulated garlic powder with parsley.\", \\n\"Cracked black pepper, grated parmesan and sea salt sprinkled after removing from microwave.\", \"Another, after removing chips from microwave, sprinkle with grated cheddar cheese, zap for a few seconds to melt the cheese, then add a dab of sour cream.\", \"A great dip is Robert Rothschild Farm Dips:\", \"Emerald Isle Onion Dill and Horseradish Dip.\")',\n",
       " 'Southern Fried Chicken~(\"chicken\", \"eggs\", \"water\", \"salt\", \"fresh ground black pepper\", \"garlic powder\", \"all-purpose flour\", \"baking powder\", \"salt\")~Heat peanut oil in a large deep pot to 350°F (do not fill more than half full--you don\\'t want a hot-oil spill-over accident!).\", \"For sauce mixture: in a medium-sized bowl, beat the eggs with the water.\", \"Add hot sauce and whisk together well.\", \"Pour this mixture into a large plastic zip-top bag.\", \"For seasoning mixture: In a small bowl, combine 1 teaspoon salt, 1/4 teaspoon freshly ground black pepper and 1/4 teaspoon garlic powder.\", \"For dredging mixture: In a another bowl, mix flour, baking powder and 1/4 teaspoon salt.\", \\n\"Rinse and pat dry chicken pieces with a paper towel.\", \"Cut breast pieces in half across ribs.\", \"Sprinkle chicken generously on both sides with seasoning blend.\", \"Drop a few chicken pieces of chicken into bag of sauce mixture and squish around to coat thoroughly.\", \"One piece at a time, roll chicken in flour mixture and drop into hot oil.\", \"Don\\'t crowd chicken pieces--I cook about half the chicken at a time.\", \"Fry chicken until brown and crisp.\", \"Drain on paper toweling.\", \"Dark meat will take about 14 minutes, white meat about 10 minutes.\", \\n\"Remember smaller pieces cook faster than the larger ones.\", \"You can check for doneness by piercing to the bone in the thickest part with a fork.\", \"If the juices run clear, it is done.\")',\n",
       " 'Buttery Bread Machine Rolls~(\"milk\", \"butter\", \"margarine\", \"sugar\", \"eggs\", \"salt\", \"bread flour\", \"active dry yeast\")~In bread machine pan, put all ingredients in order suggested by manufacturer.\", \"Select dough setting.\", \"When cycle is completed, turn dough onto a lightly floured surface.\", \"Divide dough into 24 portions.\", \"Shape dough into balls.\", \"Place in a greased 13 inch by 9 inch baking pan.\", \"Cover and let rise in a warm place for 30-45 minutes.\", \"Bake at 350 degrees for 13-16 minutes or until golden brown.\")',\n",
       " 'Basic Pancake Mix~(\"all-purpose flour\", \"sugar\", \"baking powder\", \"baking soda\", \"salt\", \"milk\", \"eggs\", \"vanilla\")~In a bowl, mix together all the dry ingredients.\", \"Make a well in the centre and pour in the milk.\", \"Start with 1 1/4 cups milk, adding up to another 1/4 cup if necessary, as you mix it with the flour.\", \"Add the two eggs, vanilla if using and oil, whisking until mixed but still a bit lumpy.\", \"Heat a frying pan (if it is not non-stick, you will need to melt a bit of butter or oil in it) and when hot, pour in some pancake mix.\", \"How much depends on how experienced you are at flipping pancakes and how big you want them. We do about 1/4 cup a time for small, easy-to-flip pancakes but you could make this as much as 1/2 cup of pancake mix.\", \\n\"If you are adding fruit, I like to sprinkle it on top of the pancake now.\", \"When the pancake starts to bubble on top and is golden brown on the cooked side, turn it and continue cooking until both sides are golden brown.\", \"The first pancake is always a bit of a test so adjust the batter by adding more flour if you need to make it thicker or more milk if you want a thinner pancake. In either case, just add a few spoonfuls at a time until you get it right.\", \"Repeat the cooking process with the remaining batter. You may need to adjust the heat as pan tends to get hotter as you keep making pancakes.\", \\n\"Keep the cooked pancakes covered with a tea towel, to keep them warm while you finish cooking the rest.\")',\n",
       " 'Kittencal\\'s Best Blasted Rapid-Roast Whole Chicken~(\"whole chicken\", \"margarine\", \"butter\", \"lemon juice\", \"seasoning salt\", \"garlic powder\", \"fresh ground black pepper\", \"cayenne pepper\", \"lemon\")~Rinse the chicken inside and out well under cold water, then pat dry using a paper towel.\", \"In a small bowl mix the lemon juice with oil and melted butter until blended, then rub all over the chicken.\", \"Using clean hands rub the inside and outside of the chicken with seasoned salt, garlic powder, black pepper and cayenne (you can season the chicken under the skin also if desired).\", \"Place the lemon/s inside the cavity.\", \"Place the chicken into a baking dish (you can place the chicken onto a small roasting rack if desired and you may want to add in a little water to the pan to prevent smoking).\", \\n\"Using cotton string tie the legs together tightly.\", \"At this point you may cover and refrigerate for up to 6 hours (not more than that or the acid in the lemon juice will start to \\\\\"cook\\\\\" the chicken).\", \"Set oven to 450 degrees F.\", \"Roast the chicken at 450 degrees for 20 minutes, then reduce the heat to 400 degrees and continue roasting for about 40 minutes (or until the internal temperature reaches about 175 to 180 degrees F. about 1 hour or a little less).\", \"Cover with foil and let sit for 15 minutes before slicing (do not slice before that time or the juices will flow out!).\"\\n)',\n",
       " 'Soft Molasses Cookies~(\"shortening\", \"brown sugar\", \"white sugar\", \"egg\", \"molasses\", \"all-purpose flour\", \"salt\", \"baking soda\", \"ground cinnamon\", \"ground ginger\", \"allspice\", \"nutmeg\")~Cream together shortening and brown sugar.\", \"Stir in egg and molasses and mix well.\", \"Fold in dry ingredients and stir.\", \"Cover and chill till firm (1-2 hours).\", \"Preheat oven to 350°.\", \"Roll dough into small balls and roll in white sugar.\", \"Place on lightly greased cookie sheet.\", \"Bake at 350° for 9-10 minutes.\", \"Leave on sheet one minute until set.\", \"I changed the amount of salt in here. My original recipe calls for 1 tsp of salt but that may be too much for some. A few people have made it as is (the majority) with no complaints on salt, however a few commented it was too much. I think 1/2 tsp can be used with no alterations to the recipe. I will leave it up to you either way you still WIN !\"\\n)',\n",
       " 'Roasted Brussels Sprouts!~(\"Brussels sprouts\", \"olive oil\", \"kosher salt\", \"lemon-pepper seasoning\", \"ground black pepper\")~Preheat oven to 400°F.\", \"Cut off the ends of the Brussels sprouts and pull off any yellow outer leaves.\", \"Mix them in a bowl with the olive oil, salt, and lemon-pepper seasoning.\", \"Transfer them to a sheet pan and roast for 35 to 40 minutes, until crisp outside and tender inside.\", \"Shake the pan from time to time to brown the Brussels sprouts evenly.\", \"Sprinkle with more kosher salt (I like these salty like French fries), if you like, and serve hot.\")',\n",
       " 'Sweet Cornbread~(\"cornmeal\", \"flour\", \"sugar\", \"baking powder\", \"salt\", \"butter\", \"honey\", \"eggs\", \"milk\")~Preheat oven to 350º.\", \"In a bowl, combine cornmeal, flour, sugar, baking powder, and salt.\", \"Add the oil, melted butter, honey, eggs, and milk.\", \"Pour into a greased 8-inch square pan.\", \"Bake for 35 minutes.\")',\n",
       " 'BLT Pasta Salad~(\"mayonnaise\", \"lemon juice concentrate\", \"sugar\", \"chicken flavor instant bouillon\", \"rotini pasta\", \"other pastas\", \"bacon\", \"tomatoes\", \"green onion\", \"lettuce\")~Combine mayonnaise, lemon juice, sugar and bouillon for the dressing.\", \"Combine rotini, bacon, tomato, and green onion.\", \"I recommend waiting until you are ready to serve before mixing in the lettuce.\")',\n",
       " 'Crock Pot Chicken Taco Meat~(\"Bulk Taco Seasoning Mix\", \"chicken broth\", \"boneless skinless chicken breast\")~Dissolve taco seasoning into chicken broth.\", \"Place chicken breasts in crock pot and pour chicken broth over.\", \"Cover and cook on low for 6-8 hours.\", \"With two forks, shred the chicken meat into bite-size pieces.\", \"To freeze, place shredded meat into freezer bags with the juices.\", \"Press out all the air and seal.\")',\n",
       " 'Amazing Puff Balls~cream cheese\"~Take out the crescent rolls, and seperate into the individual triangles.\", \"Flatten each triangle and slice it so that it becomes three small triangles.\", \"Dice or chop your pepperoni into tiny, tiny pieces.\", \"Mix the pepperoni into the cream cheese, stir very well so all of the pepperoni pieces are mixed into the cream cheese.\", \"Take a little spoonful of your cream cheese/pepperoni mixture and put it in the middle of one of your crescent rolls triangles.\", \"Pinch up all of the sides around the filling.\", \\n\"Repeat and place them all on a cookie sheet.\", \"Bake for the amount of time stated on the crescent rolls (usually 11 minutes at 350°F).\", \"Let cool for a few minutes before serving!\")',\n",
       " 'Wholly Guacamole~(\"avocados\", \"garlic cloves\", \"lime\", \"tomatoes\", \"onion\", \"salt\", \"cilantro\")~Cut avocados in half, remove pit, and spoon avocado into a mixing bowl.\", \"Add minced garlic and squeeze the juice from one-half of the lime into the bowl of avocado.\", \"Mash the ingredients together to desired consistency using the back of a large spoon or a potato masher (some like the avocado chunky, some like it smoother).\", \"Fold in diced tomato and diced onion, a couple pinches of salt, and the juice from the remaining lime half (Also add cilantro or peppers at this time).\", \"Cover the bowl and refrigerate for 30-45 minutes.\", \\n\"Uncover and taste.\", \"Add salt as needed.\", \"If you don\\'t give the resulting guacamole at least 4 stars, then you ain\\'t making it right.\", \"NOTE: The purpose of the lime is to allow any leftover guacamole to retain its \\\\\"avocado\\\\\" color as it sits in the fridge.\", \"Some folks use lemon, but it\\'s been my experience that if you accidentally add too much lemon, it seriously affects the guacamole\\'s flavor; if you happen to add too much lime, the guacamole just gets a little more tangy.\", \"If you find the leftover guacamole has darkened, simply stir it before eating and use more fresh lime juice next time.\", \\n\"Wholly guacamole may be used as a topper with tacos, enchiladas, fajitas, etc.\", \"However, some say it is at its best with a bowl of warm tortilla chips and an ice cold beer.\")',\n",
       " 'Southwestern Baked Spaghetti~(\"spaghetti\", \"milk\", \"egg\", \"ground beef\", \"onion\", \"green bell pepper\", \"garlic cloves\", \"chili powder\", \"cumin\", \"oregano\", \"salt\", \"pepper\", \"tomato sauce\", \"monterey jack cheese\")~Cook spaghetti per package direcions.\", \"Combine milk and egg, mix well.\", \"Combine drained spaghetti, milk and egg; mix well.\", \"Pour spaghetti mixture into a buttered 9X13 inch casserole dish.\", \"Brown ground beef with onion, bell pepper and garlic in a large skillet; drain.\", \"Return drained meat back into the skillet and add seasonings; Cook for 2 minutes.\", \"Stir in tomato sauce and cook for 2 more minutes.\", \"Spread meat mixture over spaghetti.\", \"Sprinkle with cheese.\", \"Bake at 425°F for 10 minutes or until cheese melts and is bubbly.\", \\n\"Remove from oven and let stand for 10 minutes.\")',\n",
       " 'Baked Chicken~(\"chicken breasts\", \"butter\", \"Season-All salt\")~Preheat oven to 400°F.\", \"Spray a shallow baking dish with non-stick cooking spray.\", \"Rinse chicken breast under cool running water.\", \"Pat chicken dry with paper towels.\", \"Place chicken in dish.\", \"Brush the melted butter over the chicken, using all the butter.\", \"Sprinkle with seasoned salt.\", \"Bake for 50-60 minutes or until cooked through.\", \"~NOTE~Chicken takes only 50 minutes in my oven.\", \"Don\\'t over cook, as they might turn out tough.\")',\n",
       " 'Potato Salad~(\"hard-boiled eggs\", \"salt\", \"green onions\", \"mayonnaise\", \"prepared mustard\", \"pepper\", \"celery seed\")~Cook potatoes in boiling water to cover 40 minutes or until tender; drain and cool.\", \"Peel potatoes and cut into 1 inch pieces.\", \"Chop egg whites.\", \"In a large bowl, stir together potato, egg whites, 1/2 t. salt and green onions.\", \"Using a fork, mash the yolks in a small bowl; add in remaining 1/2 t. salt, mayo, pickle relish, mustard, pepper, and celery seed; stirring until well blended.\", \"Gently stir yolk mixture into potato mixture; adjust seasoning to taste with salt and pepper.\", \"Cover and chill 2 hours (it is even better if you can chill this overnight and serve the next day).\"\\n)',\n",
       " 'Mean Guy\\'s General Tso\\'s Chicken~(\"chicken thigh\", \"eggs\", \"cornstarch\", \"cornstarch\", \"rice vinegar\", \"rice wine\", \"sugar\", \"soy sauce\")~In a large bowl, thoroughly blend the 1/2 cup of cornstarch and the eggs; add the chicken and toss to coat.\", \"If the mixture is too thick, add some vegetable oil to separate the pieces.\", \"In a small bowl, prepare the sauce mixture by combining the 2 tsp cornstarch with the wine, vinegar, sugar and soy sauce.\", \"First-Stage Frying: Heat 1-2 inches of peanut oil in a wok to medium-high heat (350-400).\", \"Fry the chicken in small batches, just long enough to cook the chicken through.\", \"Remove the chicken to absorbent paper and allow to stand (this step can be performed well in advance, along with the sauce mixture, with both refrigerated).\", \\n\"Second-Stage Frying: Leave a tablespoon or two of the oil in the wok.\", \"Add the pepper pods to the oil and stir-fry briefly, awakening the aroma but not burning them.\", \"Return the chicken to the wok and stir-fry until the pieces are crispy brown.\", \"The General\\'s Favorite Sauce: Add the sauce-mixture to the wok, tossing over the heat until the sauce caramelizes into a glaze (1-2 minutes).\", \"Serve immediately.\", \"Serves 4, along with steamed broccoli and rice.\")',\n",
       " 'Big Grandma\\'s Best Peanut Butter Cookies~(\"brown sugar\", \"white sugar\", \"creamy peanut butter\", \"salt\", \"eggs\", \"vanilla\", \"baking soda\", \"flour\")~Cream together the sugars, Crisco, peanut butter.\", \"Add the eggs and vanilla.\", \"Sift the dry ingredients together and add gradually until blended well.\", \"Roll into tablespoon size balls.\", \"Roll cookie dough balls into sugar.\", \"Place on cookie sheets- do not mash with fork in normal \\\\\"peanut butter cookie\\\\\" fashion!\", \"Bake at 350° oven for 11-13 minutes.\")',\n",
       " 'Best Oatmeal Raisin Cookies~(\"eggs\", \"raisins\", \"vanilla\", \"butter\", \"brown sugar\", \"white sugar\", \"flour\", \"salt\", \"cinnamon\", \"baking soda\", \"oatmeal\", \"pecans\")~This is a very important first step that makes the cookie: combine eggs, raisins and vanilla and let stand for one hour.\", \"Cream together butter and sugars.\", \"Add flour, salt, cinnamon and soda and mix well.\", \"Blend in egg-raisin mixture, oatmeal, and chopped nuts.\", \"Dough will be stiff.\", \"Drop by heaping teaspoons onto ungreased cookie sheet, or roll into balls and flatten slightly.\", \"Bake at 350 degrees for 10 to 12 minutes or until lightly browned.\")',\n",
       " 'Oven Fried Eggplant (Aubergine)~(\"fat-free mayonnaise\", \"onion\", \"eggplant\", \"parmesan cheese\")~Combine first 2 ingredients, stir well.\", \"Spread evenly over both sides of eggplant slices.\", \"Combine breadcrumbs, cheese, and Italian seasoning in a shallow bowl; dredge eggplant in breadcrumbs mixture.\", \"Place eggplant on a baking sheet coated with cooking spray.\", \"Bake@ 425 degrees for 12 minutes.\", \"Turn eggplant over; and bake an additional 12 minutes or until golden.\")']"
      ]
     },
     "execution_count": 29,
     "metadata": {},
     "output_type": "execute_result"
    }
   ],
   "source": [
    "recipe_names"
   ]
  },
  {
   "cell_type": "markdown",
   "id": "96758d38",
   "metadata": {},
   "source": [
    "Three NMF funcs"
   ]
  },
  {
   "cell_type": "code",
   "execution_count": 40,
   "id": "e2354f00",
   "metadata": {},
   "outputs": [],
   "source": [
    "recipe = a \n",
    "\n",
    "ratings = [5, 1 ,1 ,1, 1]"
   ]
  },
  {
   "cell_type": "code",
   "execution_count": 41,
   "id": "a9f5fbe8",
   "metadata": {},
   "outputs": [],
   "source": [
    "ratingss = map(int, ratings) #needs to be int\n",
    "user_rating = dict(zip(recipe,ratingss)) "
   ]
  },
  {
   "cell_type": "code",
   "execution_count": 42,
   "id": "fba8190c",
   "metadata": {},
   "outputs": [
    {
     "data": {
      "text/plain": [
       "{'Thick and Creamy New England Clam Chowder': 5,\n",
       " 'Wholesome Homemade Honey Whole Wheat Bread': 1,\n",
       " 'Smothered Pork Chops': 1,\n",
       " 'Creamy Coleslaw': 1,\n",
       " 'New York Crumb Cake': 1}"
      ]
     },
     "execution_count": 42,
     "metadata": {},
     "output_type": "execute_result"
    }
   ],
   "source": [
    "user_rating"
   ]
  },
  {
   "cell_type": "code",
   "execution_count": 76,
   "id": "0c922774",
   "metadata": {},
   "outputs": [],
   "source": [
    "def NMF_new_user(user_rating, recipes_dict, R_vec):  #user rating zipped dict in app file\n",
    "    \n",
    "    \"\"\"\n",
    "    Creates a df with the user input.\n",
    "    Takes the pickled dictionary index and the \n",
    "    user input to create a user df. Cols iterated\n",
    "    through to remove duplicates before concat. \n",
    "    User df then imputed with user-wise and \n",
    "    recipe wise means, and averaged. \n",
    "    \n",
    "    Future: impute with cat wise weighted mean\n",
    "    \"\"\"\n",
    "\n",
    "    visitor ='new_user'\n",
    "    user_input = pd.DataFrame(user_rating, index=[visitor])\n",
    "    \n",
    "    #create necessary df\n",
    "    recipe =pd.DataFrame(columns=recipes_dict.keys()) #takes values from pickled dict and makes into col names\n",
    "\n",
    "    #fix the issue of repeat cols\n",
    "    recipe_cols = list(recipe.columns)\n",
    "    user_input_cols = list(user_input.columns)\n",
    "    #print(user_input_cols)\n",
    "                           \n",
    "    for col in recipe_cols:\n",
    "        if col in  user_input_cols:\n",
    "            recipe.drop([col], axis=1, inplace=True)\n",
    "        else: \n",
    "            pass\n",
    "    new_user = pd.concat([recipe, user_input]) \n",
    "\n",
    "     #impute user with values (steps below)\n",
    "    user1 = new_user.T.fillna(new_user.mean(axis=1).round(2)).T.values\n",
    "    user2 = R_vec #R_vec is one row of the col wise imputed df as an array\n",
    "    user_i = (user1 + user2)/2\n",
    "    user_i\n",
    "\n",
    "    return(user_i) "
   ]
  },
  {
   "cell_type": "code",
   "execution_count": 77,
   "id": "0f62bc1e",
   "metadata": {},
   "outputs": [
    {
     "data": {
      "text/plain": [
       "array([[3.259375, 3.4     , 3.2     , ..., 3.      , 2.9375  , 3.      ]])"
      ]
     },
     "execution_count": 77,
     "metadata": {},
     "output_type": "execute_result"
    }
   ],
   "source": [
    "NMF_new_user(user_rating, recipes_dict, R_vec)"
   ]
  },
  {
   "cell_type": "code",
   "execution_count": 90,
   "id": "674064eb",
   "metadata": {},
   "outputs": [],
   "source": [
    "def NMF_model(user_i,model, Q, recipes_dict): \n",
    "\n",
    "    '''\n",
    "    takes imputer cold-start user vector \n",
    "    and transforms it using the model \n",
    "    to output a list of recommended recipe names\n",
    "\n",
    "    Future: hybrid model and NLP (with ratings)\n",
    "    '''\n",
    "\n",
    "    user_P = model.transform(user_i)\n",
    "    user_R = np.dot( user_P, Q)\n",
    "    \n",
    "    #df of predictions\n",
    "    reco = pd.DataFrame({'user_imputed':user_i[0], 'predicted_ratings':user_R[0]}, index = recipes_dict.keys())\n",
    "    reco_10 = reco.sort_values(by ='predicted_ratings', ascending= False).iloc[:10,:]\n",
    "    recommendation =list(reco_10.index)\n",
    "\n",
    "    #get values from dict based on recommendation (NOTE: probably needs work...)\n",
    "\n",
    "    return (recommendation) #formatted as list"
   ]
  },
  {
   "cell_type": "code",
   "execution_count": 91,
   "id": "6ec78a19",
   "metadata": {},
   "outputs": [
    {
     "data": {
      "text/plain": [
       "['Whipped Chocolate Cream Icing',\n",
       " 'Lemon Cake Pie',\n",
       " 'Fluffy Morning Pancakes',\n",
       " 'Creamy Chickpea Curry',\n",
       " 'Tender Crock Pot Turkey Breast',\n",
       " 'My Crock Pot Spaghetti Sauce',\n",
       " 'Peanut Butter and Pickle Sandwich',\n",
       " 'Bacon and Lettuce Stuffed Cherry Tomatoes',\n",
       " 'Crock Pot Candy',\n",
       " 'Cajun Chicken Alfredo']"
      ]
     },
     "execution_count": 91,
     "metadata": {},
     "output_type": "execute_result"
    }
   ],
   "source": [
    "NMF_model(user_i, m, Q, recipes_dict)"
   ]
  },
  {
   "cell_type": "code",
   "execution_count": 94,
   "id": "6f296d0d",
   "metadata": {},
   "outputs": [],
   "source": [
    "def NMF_output(user_rating):\n",
    "\n",
    "    '''\n",
    "    Small iterative function to go through list \n",
    "    of recommendations and return list \n",
    "    of matched dict values (with recipe instructions)\n",
    "    '''\n",
    "    user_i = NMF_new_user(user_rating, recipes_dict, R_vec)\n",
    "    recommendation = NMF_model(user_i,m, Q, recipes_dict)\n",
    "\n",
    "    recoreco = []\n",
    "\n",
    "    for k in recommendation:\n",
    "        if k in recipes_dict.keys():\n",
    "            recoreco.append(recipes_dict[k])\n",
    "\n",
    "    return(recoreco)"
   ]
  },
  {
   "cell_type": "code",
   "execution_count": 95,
   "id": "89c7a0aa",
   "metadata": {},
   "outputs": [
    {
     "data": {
      "text/plain": [
       "['Whipped Chocolate Cream Icing~cing sugar\"~\"Sift icing sugar and cocoa into a bowl.\", \"Add whipping cream and stir to mix.\", \"With beater whip as for whipping cream.\", \"This amount will very generously cover a large Angel cake or any other large cake.\")',\n",
       " 'Lemon Cake Pie~\"sugar\", \"butter\", \"all-purpose flour\", \"salt\", \"lemon peel\", \"fresh lemon juice\", \"eggs\", \"milk\")~\"Put rack on lowest position in oven.\", \"Preheat oven to 375.\", \"In a medium bowl, stir together melted butter and sugar.\", \"Stir in flour, salt, lemon peel and lemon juice.\", \"In a small bowl, beat egg yolks with milk until well blended, stir into lemon mixture.\", \"In another medium sized bowl, beat egg whites with an electric mixer until they hold distinct but moist peaks. Gently fold egg whites into lemon mixture. (Don\\'t mix it too much.).\", \"Pour filling into pie crust.\", \"I always end up with more filling than will fit in the pie crust so I put it in a couple ceramic rammekins and cook it along with the pie.\", \\n\"Bake on the lowest rack of the oven until the top is browned and the center jiggles only slightly when pan is gently shaken (45-55 minutes). If the crust begins to brown excessively, drape it with foil.\", \"Let cool before serving. But it\\'s good warm too!\")',\n",
       " 'Fluffy Morning Pancakes~\"all-purpose flour\", \"baking powder\", \"sugar\", \"salt\", \"milk\", \"butter\", \"margarine\", \"eggs\")~\"Combine all dry ingredients.\", \"Preheat electric skillet to 380º.\", \"Add butter and milk to eggs.\", \"Add dry ingredients.\", \"Stir just to dampen (not too much).\", \"Adjust milk so it’s thin enough to pour.\", \"Carefully butter skillet and pour pancakes to your desired size.  When you begin to see bubbles forming on top of your batter, it is time to flip.  Cook on second side until nicely browned.\")',\n",
       " 'Creamy Chickpea Curry~\"onion\", \"garlic cloves\", \"red curry paste\", \"chickpeas\", \"coconut milk\", \"soy sauce\", \"tomatoes\", \"brown sugar\", \"fresh lime juice\", \"fresh basil\", \"cilantro\", \"cooked jasmine rice\")~\"Heat oil in a large skillet over a medium high heat.\", \"Add onions and cook until they start to brown.\", \"Add garlic and curry.\", \"Stir-fry until garlic is soft and curry dissolved.\", \"Add chickpeas, Coconut Milk, and soy sauce.\", \"Bring to a boil and simmer 10 minutes.\", \"Add tomatoes, sugar, and lime juice.\", \"Simmer for 5 minutes.\", \"Stir in basil or cilantro until combined, and serve over rice.\")',\n",
       " 'Tender Crock Pot Turkey Breast~\"chicken broth\", \"butter\", \"Worcestershire sauce\", \"thyme\")~\"Rinse turkey breast and pat dry with paper towels.\", \"Place in crock pot breast side down.\", \"Pour chicken broth over turkey.\", \"Two hours into cooking time, mix other ingredients and pour over turkey.\", \"Make gravy with juices if desired.\", \"Cook 8-10 hours in crock pot on low.\")',\n",
       " 'My Crock Pot Spaghetti Sauce~\"ground beef\", \"ground pork\", \"onion\", \"diced tomatoes\", \"tomato paste\", \"tomato sauce\", \"bay leaves\", \"garlic cloves\", \"dried oregano\", \"salt\", \"dried basil\", \"brown sugar\", \"dried thyme\")~\"Brown meats and onion in a skillet and drain well.\", \"Transfer to your crock pot.\", \"Add remaining ingredients and mix well.\", \"Cover and cook on low for 8-10 hours.\", \"Serve over hot spaghetti noodles.\")',\n",
       " 'Peanut Butter and Pickle Sandwich~eanut butter\"~\"Spread peanut butter on both slices of bread.\", \"Lay pickles on one slice of bread.\", \"Cover with other slice of bread.\", \"Enjoy!\")',\n",
       " 'Bacon and Lettuce Stuffed Cherry Tomatoes~\"cherry tomatoes\", \"fresh chives\", \"green onion\", \"bacon\", \"lettuce\", \"mayonnaise\")~\"Cut the top off the tomatoes, scoop out the seeds& pulp. Use the seeds & puld in some other recipe.\", \"Salt the inside of the tomato and put them upside down on a paper towel to drain for about15 minutes.\", \"Meanwhile combine the bacon, chives, lettuce and Mayo, season with salt and pepper (remember that you have already salted the inside of the tomatoes).\", \"Fill the tomatoes just before serving.\")',\n",
       " 'Crock Pot Candy~\"unsalted dry roasted peanuts\", \"German chocolate bars\")~\"Put peanuts in bottom of crock pot; add other ingredients.\", \"Cook on low setting for 1 1/2 to 2 hours.\", \"Place rounded spoonfuls onto wax paper and allow to cool.\")',\n",
       " 'Cajun Chicken Alfredo~\"boneless skinless chicken breast halves\", \"butter\", \"margarine\", \"green onion\", \"heavy cream\", \"dried basil\", \"lemon-pepper seasoning\", \"salt\", \"garlic powder\", \"pepper\", \"linguine\", \"parmesan cheese\")~\"Place chicken and Cajun seasoning in a bowl or resealable plastic bag, toss or shake to coat.\", \"In a large skillet over medium heat sauté chicken in butter until almost tender, about 5-7 minutes.\", \"Add onion; cook and stir for 2-3 minutes.\", \"Reduce heat.\", \"Add cream and seasonings -- 1/4  teaspoon dried basil\", \"1/4  teaspoon lemon-pepper seasoning\", \"1/4  teaspoon salt\", \"1/8  teaspoon garlic powder\", \"1/8  teaspoon pepper ; heat through.\", \"Add linguine and toss; heat through.\")']"
      ]
     },
     "execution_count": 95,
     "metadata": {},
     "output_type": "execute_result"
    }
   ],
   "source": [
    "NMF_output(user_rating)"
   ]
  },
  {
   "cell_type": "code",
   "execution_count": null,
   "id": "af594111",
   "metadata": {},
   "outputs": [],
   "source": [
    "#note: in this file model called m, in the app files called m "
   ]
  }
 ],
 "metadata": {
  "kernelspec": {
   "display_name": "Python 3 (ipykernel)",
   "language": "python",
   "name": "python3"
  },
  "language_info": {
   "codemirror_mode": {
    "name": "ipython",
    "version": 3
   },
   "file_extension": ".py",
   "mimetype": "text/x-python",
   "name": "python",
   "nbconvert_exporter": "python",
   "pygments_lexer": "ipython3",
   "version": "3.9.7"
  }
 },
 "nbformat": 4,
 "nbformat_minor": 5
}
